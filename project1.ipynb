{
 "cells": [
  {
   "cell_type": "markdown",
   "id": "5cfa3718",
   "metadata": {},
   "source": [
    "# Write A Data Science Blog Post Project (Seattle AirBNB Data)\n",
    "## by    Rajaa Rahil\n",
    "\n",
    "## Introduction\n",
    ">Airbnb company (Air Bed and Breakfast) is an American marketplace for lodging founded in 2008 and covered wide places around the world. Besides the services, Airbnb provides protection for guests and hosts. There is some criticism of the company due to the potential for increasing home rents and disturbing neighbors who live near rental properties.[Wiki](https://en.wikipedia.org/wiki/Airbnb)\n",
    "\n",
    ">Seattle [AirBNB Dataset](https://www.kaggle.com/airbnb/seattle/data) consists of three tables:\n",
    ">- Listings: consists of 3818 instances and 92 features (variables) including full descriptions.\n",
    ">- Reviews: consists of 84849 instances and 6 features (variables) including reviewer information.\n",
    ">- Calendar: consists of 1393570 instances and 4 features (variables) including the availability and price in each day, as well as the list id.  \n",
    "In this project, we will focus on the key features that we consider to be related to our sights."
   ]
  },
  {
   "cell_type": "markdown",
   "id": "a4bfe162",
   "metadata": {},
   "source": [
    "## Our insights:\n",
    "The questions were highlighted during investigating and analyzing the dataset.\n",
    "\n",
    "Does the host respond to the guest on time for the booking? <br/>\n",
    "Does host response time affect the average price?<br/>\n",
    "Is the host a super host?<br/>\n",
    "What are the favorite neighborhoods by guests in Seattle?<br/>\n",
    "Do neighborhood locations affect the average price?<br/>\n",
    "What type of property is most demanded by the guest? <br/>\n",
    "Does the property type affect the average price?<br/>\n",
    "What type of room is most demanded by the guest?<br/> \n",
    "Does the room type affect the average price?<br/>\n",
    "What are the cancellation policy types in Seattle? <br/>\n",
    "Does the cancellation policy type affect the average price?<br/>\n",
    "What is the average price trend throughout the year (2016)?<br/>\n",
    "Is the availability of properties affected in the peak period?<br/>"
   ]
  },
  {
   "cell_type": "code",
   "execution_count": 3,
   "id": "f34a150e",
   "metadata": {},
   "outputs": [],
   "source": [
    "# import all packages\n",
    "import pandas as pd\n",
    "import numpy as np\n",
    "import matplotlib.pyplot as plt\n",
    "import seaborn as sns\n",
    "%matplotlib inline\n",
    "from sklearn.linear_model import LinearRegression\n",
    "from sklearn.model_selection import train_test_split\n",
    "from sklearn.metrics import r2_score, mean_squared_error"
   ]
  },
  {
   "cell_type": "markdown",
   "id": "7ec31206",
   "metadata": {},
   "source": [
    "## Wrangling Data "
   ]
  },
  {
   "cell_type": "code",
   "execution_count": 4,
   "id": "0f36e0d4",
   "metadata": {},
   "outputs": [],
   "source": [
    "# load in the dataset into a pandas dataframe\n",
    "df_listining = pd.read_csv('listings.csv')\n",
    "df_review = pd.read_csv('reviews.csv')\n",
    "df_calendar = pd.read_csv('calendar.csv')"
   ]
  },
  {
   "cell_type": "markdown",
   "id": "c841f04b",
   "metadata": {},
   "source": [
    "### Assessing And Cleaning Data"
   ]
  },
  {
   "cell_type": "code",
   "execution_count": 5,
   "id": "b5d352ae",
   "metadata": {},
   "outputs": [
    {
     "data": {
      "text/html": [
       "<div>\n",
       "<style scoped>\n",
       "    .dataframe tbody tr th:only-of-type {\n",
       "        vertical-align: middle;\n",
       "    }\n",
       "\n",
       "    .dataframe tbody tr th {\n",
       "        vertical-align: top;\n",
       "    }\n",
       "\n",
       "    .dataframe thead th {\n",
       "        text-align: right;\n",
       "    }\n",
       "</style>\n",
       "<table border=\"1\" class=\"dataframe\">\n",
       "  <thead>\n",
       "    <tr style=\"text-align: right;\">\n",
       "      <th></th>\n",
       "      <th>id</th>\n",
       "      <th>listing_url</th>\n",
       "      <th>scrape_id</th>\n",
       "      <th>last_scraped</th>\n",
       "      <th>name</th>\n",
       "      <th>summary</th>\n",
       "      <th>space</th>\n",
       "      <th>description</th>\n",
       "      <th>experiences_offered</th>\n",
       "      <th>neighborhood_overview</th>\n",
       "      <th>...</th>\n",
       "      <th>review_scores_value</th>\n",
       "      <th>requires_license</th>\n",
       "      <th>license</th>\n",
       "      <th>jurisdiction_names</th>\n",
       "      <th>instant_bookable</th>\n",
       "      <th>cancellation_policy</th>\n",
       "      <th>require_guest_profile_picture</th>\n",
       "      <th>require_guest_phone_verification</th>\n",
       "      <th>calculated_host_listings_count</th>\n",
       "      <th>reviews_per_month</th>\n",
       "    </tr>\n",
       "  </thead>\n",
       "  <tbody>\n",
       "    <tr>\n",
       "      <th>0</th>\n",
       "      <td>241032</td>\n",
       "      <td>https://www.airbnb.com/rooms/241032</td>\n",
       "      <td>20160104002432</td>\n",
       "      <td>2016-01-04</td>\n",
       "      <td>Stylish Queen Anne Apartment</td>\n",
       "      <td>NaN</td>\n",
       "      <td>Make your self at home in this charming one-be...</td>\n",
       "      <td>Make your self at home in this charming one-be...</td>\n",
       "      <td>none</td>\n",
       "      <td>NaN</td>\n",
       "      <td>...</td>\n",
       "      <td>10.0</td>\n",
       "      <td>f</td>\n",
       "      <td>NaN</td>\n",
       "      <td>WASHINGTON</td>\n",
       "      <td>f</td>\n",
       "      <td>moderate</td>\n",
       "      <td>f</td>\n",
       "      <td>f</td>\n",
       "      <td>2</td>\n",
       "      <td>4.07</td>\n",
       "    </tr>\n",
       "    <tr>\n",
       "      <th>1</th>\n",
       "      <td>953595</td>\n",
       "      <td>https://www.airbnb.com/rooms/953595</td>\n",
       "      <td>20160104002432</td>\n",
       "      <td>2016-01-04</td>\n",
       "      <td>Bright &amp; Airy Queen Anne Apartment</td>\n",
       "      <td>Chemically sensitive? We've removed the irrita...</td>\n",
       "      <td>Beautiful, hypoallergenic apartment in an extr...</td>\n",
       "      <td>Chemically sensitive? We've removed the irrita...</td>\n",
       "      <td>none</td>\n",
       "      <td>Queen Anne is a wonderful, truly functional vi...</td>\n",
       "      <td>...</td>\n",
       "      <td>10.0</td>\n",
       "      <td>f</td>\n",
       "      <td>NaN</td>\n",
       "      <td>WASHINGTON</td>\n",
       "      <td>f</td>\n",
       "      <td>strict</td>\n",
       "      <td>t</td>\n",
       "      <td>t</td>\n",
       "      <td>6</td>\n",
       "      <td>1.48</td>\n",
       "    </tr>\n",
       "    <tr>\n",
       "      <th>2</th>\n",
       "      <td>3308979</td>\n",
       "      <td>https://www.airbnb.com/rooms/3308979</td>\n",
       "      <td>20160104002432</td>\n",
       "      <td>2016-01-04</td>\n",
       "      <td>New Modern House-Amazing water view</td>\n",
       "      <td>New modern house built in 2013.  Spectacular s...</td>\n",
       "      <td>Our house is modern, light and fresh with a wa...</td>\n",
       "      <td>New modern house built in 2013.  Spectacular s...</td>\n",
       "      <td>none</td>\n",
       "      <td>Upper Queen Anne is a charming neighborhood fu...</td>\n",
       "      <td>...</td>\n",
       "      <td>10.0</td>\n",
       "      <td>f</td>\n",
       "      <td>NaN</td>\n",
       "      <td>WASHINGTON</td>\n",
       "      <td>f</td>\n",
       "      <td>strict</td>\n",
       "      <td>f</td>\n",
       "      <td>f</td>\n",
       "      <td>2</td>\n",
       "      <td>1.15</td>\n",
       "    </tr>\n",
       "    <tr>\n",
       "      <th>3</th>\n",
       "      <td>7421966</td>\n",
       "      <td>https://www.airbnb.com/rooms/7421966</td>\n",
       "      <td>20160104002432</td>\n",
       "      <td>2016-01-04</td>\n",
       "      <td>Queen Anne Chateau</td>\n",
       "      <td>A charming apartment that sits atop Queen Anne...</td>\n",
       "      <td>NaN</td>\n",
       "      <td>A charming apartment that sits atop Queen Anne...</td>\n",
       "      <td>none</td>\n",
       "      <td>NaN</td>\n",
       "      <td>...</td>\n",
       "      <td>NaN</td>\n",
       "      <td>f</td>\n",
       "      <td>NaN</td>\n",
       "      <td>WASHINGTON</td>\n",
       "      <td>f</td>\n",
       "      <td>flexible</td>\n",
       "      <td>f</td>\n",
       "      <td>f</td>\n",
       "      <td>1</td>\n",
       "      <td>NaN</td>\n",
       "    </tr>\n",
       "    <tr>\n",
       "      <th>4</th>\n",
       "      <td>278830</td>\n",
       "      <td>https://www.airbnb.com/rooms/278830</td>\n",
       "      <td>20160104002432</td>\n",
       "      <td>2016-01-04</td>\n",
       "      <td>Charming craftsman 3 bdm house</td>\n",
       "      <td>Cozy family craftman house in beautiful neighb...</td>\n",
       "      <td>Cozy family craftman house in beautiful neighb...</td>\n",
       "      <td>Cozy family craftman house in beautiful neighb...</td>\n",
       "      <td>none</td>\n",
       "      <td>We are in the beautiful neighborhood of Queen ...</td>\n",
       "      <td>...</td>\n",
       "      <td>9.0</td>\n",
       "      <td>f</td>\n",
       "      <td>NaN</td>\n",
       "      <td>WASHINGTON</td>\n",
       "      <td>f</td>\n",
       "      <td>strict</td>\n",
       "      <td>f</td>\n",
       "      <td>f</td>\n",
       "      <td>1</td>\n",
       "      <td>0.89</td>\n",
       "    </tr>\n",
       "  </tbody>\n",
       "</table>\n",
       "<p>5 rows × 92 columns</p>\n",
       "</div>"
      ],
      "text/plain": [
       "        id                           listing_url       scrape_id last_scraped  \\\n",
       "0   241032   https://www.airbnb.com/rooms/241032  20160104002432   2016-01-04   \n",
       "1   953595   https://www.airbnb.com/rooms/953595  20160104002432   2016-01-04   \n",
       "2  3308979  https://www.airbnb.com/rooms/3308979  20160104002432   2016-01-04   \n",
       "3  7421966  https://www.airbnb.com/rooms/7421966  20160104002432   2016-01-04   \n",
       "4   278830   https://www.airbnb.com/rooms/278830  20160104002432   2016-01-04   \n",
       "\n",
       "                                  name  \\\n",
       "0         Stylish Queen Anne Apartment   \n",
       "1   Bright & Airy Queen Anne Apartment   \n",
       "2  New Modern House-Amazing water view   \n",
       "3                   Queen Anne Chateau   \n",
       "4       Charming craftsman 3 bdm house   \n",
       "\n",
       "                                             summary  \\\n",
       "0                                                NaN   \n",
       "1  Chemically sensitive? We've removed the irrita...   \n",
       "2  New modern house built in 2013.  Spectacular s...   \n",
       "3  A charming apartment that sits atop Queen Anne...   \n",
       "4  Cozy family craftman house in beautiful neighb...   \n",
       "\n",
       "                                               space  \\\n",
       "0  Make your self at home in this charming one-be...   \n",
       "1  Beautiful, hypoallergenic apartment in an extr...   \n",
       "2  Our house is modern, light and fresh with a wa...   \n",
       "3                                                NaN   \n",
       "4  Cozy family craftman house in beautiful neighb...   \n",
       "\n",
       "                                         description experiences_offered  \\\n",
       "0  Make your self at home in this charming one-be...                none   \n",
       "1  Chemically sensitive? We've removed the irrita...                none   \n",
       "2  New modern house built in 2013.  Spectacular s...                none   \n",
       "3  A charming apartment that sits atop Queen Anne...                none   \n",
       "4  Cozy family craftman house in beautiful neighb...                none   \n",
       "\n",
       "                               neighborhood_overview  ... review_scores_value  \\\n",
       "0                                                NaN  ...                10.0   \n",
       "1  Queen Anne is a wonderful, truly functional vi...  ...                10.0   \n",
       "2  Upper Queen Anne is a charming neighborhood fu...  ...                10.0   \n",
       "3                                                NaN  ...                 NaN   \n",
       "4  We are in the beautiful neighborhood of Queen ...  ...                 9.0   \n",
       "\n",
       "  requires_license license jurisdiction_names instant_bookable  \\\n",
       "0                f     NaN         WASHINGTON                f   \n",
       "1                f     NaN         WASHINGTON                f   \n",
       "2                f     NaN         WASHINGTON                f   \n",
       "3                f     NaN         WASHINGTON                f   \n",
       "4                f     NaN         WASHINGTON                f   \n",
       "\n",
       "  cancellation_policy  require_guest_profile_picture  \\\n",
       "0            moderate                              f   \n",
       "1              strict                              t   \n",
       "2              strict                              f   \n",
       "3            flexible                              f   \n",
       "4              strict                              f   \n",
       "\n",
       "  require_guest_phone_verification calculated_host_listings_count  \\\n",
       "0                                f                              2   \n",
       "1                                t                              6   \n",
       "2                                f                              2   \n",
       "3                                f                              1   \n",
       "4                                f                              1   \n",
       "\n",
       "  reviews_per_month  \n",
       "0              4.07  \n",
       "1              1.48  \n",
       "2              1.15  \n",
       "3               NaN  \n",
       "4              0.89  \n",
       "\n",
       "[5 rows x 92 columns]"
      ]
     },
     "execution_count": 5,
     "metadata": {},
     "output_type": "execute_result"
    }
   ],
   "source": [
    "df_listining.head()"
   ]
  },
  {
   "cell_type": "code",
   "execution_count": 6,
   "id": "ebb3a5a4",
   "metadata": {},
   "outputs": [
    {
     "data": {
      "text/plain": [
       "(3818, 92)"
      ]
     },
     "execution_count": 6,
     "metadata": {},
     "output_type": "execute_result"
    }
   ],
   "source": [
    "df_listining.shape"
   ]
  },
  {
   "cell_type": "code",
   "execution_count": 7,
   "id": "b98d876a",
   "metadata": {},
   "outputs": [
    {
     "name": "stdout",
     "output_type": "stream",
     "text": [
      "<class 'pandas.core.frame.DataFrame'>\n",
      "RangeIndex: 3818 entries, 0 to 3817\n",
      "Data columns (total 92 columns):\n",
      " #   Column                            Non-Null Count  Dtype  \n",
      "---  ------                            --------------  -----  \n",
      " 0   id                                3818 non-null   int64  \n",
      " 1   listing_url                       3818 non-null   object \n",
      " 2   scrape_id                         3818 non-null   int64  \n",
      " 3   last_scraped                      3818 non-null   object \n",
      " 4   name                              3818 non-null   object \n",
      " 5   summary                           3641 non-null   object \n",
      " 6   space                             3249 non-null   object \n",
      " 7   description                       3818 non-null   object \n",
      " 8   experiences_offered               3818 non-null   object \n",
      " 9   neighborhood_overview             2786 non-null   object \n",
      " 10  notes                             2212 non-null   object \n",
      " 11  transit                           2884 non-null   object \n",
      " 12  thumbnail_url                     3498 non-null   object \n",
      " 13  medium_url                        3498 non-null   object \n",
      " 14  picture_url                       3818 non-null   object \n",
      " 15  xl_picture_url                    3498 non-null   object \n",
      " 16  host_id                           3818 non-null   int64  \n",
      " 17  host_url                          3818 non-null   object \n",
      " 18  host_name                         3816 non-null   object \n",
      " 19  host_since                        3816 non-null   object \n",
      " 20  host_location                     3810 non-null   object \n",
      " 21  host_about                        2959 non-null   object \n",
      " 22  host_response_time                3295 non-null   object \n",
      " 23  host_response_rate                3295 non-null   object \n",
      " 24  host_acceptance_rate              3045 non-null   object \n",
      " 25  host_is_superhost                 3816 non-null   object \n",
      " 26  host_thumbnail_url                3816 non-null   object \n",
      " 27  host_picture_url                  3816 non-null   object \n",
      " 28  host_neighbourhood                3518 non-null   object \n",
      " 29  host_listings_count               3816 non-null   float64\n",
      " 30  host_total_listings_count         3816 non-null   float64\n",
      " 31  host_verifications                3818 non-null   object \n",
      " 32  host_has_profile_pic              3816 non-null   object \n",
      " 33  host_identity_verified            3816 non-null   object \n",
      " 34  street                            3818 non-null   object \n",
      " 35  neighbourhood                     3402 non-null   object \n",
      " 36  neighbourhood_cleansed            3818 non-null   object \n",
      " 37  neighbourhood_group_cleansed      3818 non-null   object \n",
      " 38  city                              3818 non-null   object \n",
      " 39  state                             3818 non-null   object \n",
      " 40  zipcode                           3811 non-null   object \n",
      " 41  market                            3818 non-null   object \n",
      " 42  smart_location                    3818 non-null   object \n",
      " 43  country_code                      3818 non-null   object \n",
      " 44  country                           3818 non-null   object \n",
      " 45  latitude                          3818 non-null   float64\n",
      " 46  longitude                         3818 non-null   float64\n",
      " 47  is_location_exact                 3818 non-null   object \n",
      " 48  property_type                     3817 non-null   object \n",
      " 49  room_type                         3818 non-null   object \n",
      " 50  accommodates                      3818 non-null   int64  \n",
      " 51  bathrooms                         3802 non-null   float64\n",
      " 52  bedrooms                          3812 non-null   float64\n",
      " 53  beds                              3817 non-null   float64\n",
      " 54  bed_type                          3818 non-null   object \n",
      " 55  amenities                         3818 non-null   object \n",
      " 56  square_feet                       97 non-null     float64\n",
      " 57  price                             3818 non-null   object \n",
      " 58  weekly_price                      2009 non-null   object \n",
      " 59  monthly_price                     1517 non-null   object \n",
      " 60  security_deposit                  1866 non-null   object \n",
      " 61  cleaning_fee                      2788 non-null   object \n",
      " 62  guests_included                   3818 non-null   int64  \n",
      " 63  extra_people                      3818 non-null   object \n",
      " 64  minimum_nights                    3818 non-null   int64  \n",
      " 65  maximum_nights                    3818 non-null   int64  \n",
      " 66  calendar_updated                  3818 non-null   object \n",
      " 67  has_availability                  3818 non-null   object \n",
      " 68  availability_30                   3818 non-null   int64  \n",
      " 69  availability_60                   3818 non-null   int64  \n",
      " 70  availability_90                   3818 non-null   int64  \n",
      " 71  availability_365                  3818 non-null   int64  \n",
      " 72  calendar_last_scraped             3818 non-null   object \n",
      " 73  number_of_reviews                 3818 non-null   int64  \n",
      " 74  first_review                      3191 non-null   object \n",
      " 75  last_review                       3191 non-null   object \n",
      " 76  review_scores_rating              3171 non-null   float64\n",
      " 77  review_scores_accuracy            3160 non-null   float64\n",
      " 78  review_scores_cleanliness         3165 non-null   float64\n",
      " 79  review_scores_checkin             3160 non-null   float64\n",
      " 80  review_scores_communication       3167 non-null   float64\n",
      " 81  review_scores_location            3163 non-null   float64\n",
      " 82  review_scores_value               3162 non-null   float64\n",
      " 83  requires_license                  3818 non-null   object \n",
      " 84  license                           0 non-null      float64\n",
      " 85  jurisdiction_names                3818 non-null   object \n",
      " 86  instant_bookable                  3818 non-null   object \n",
      " 87  cancellation_policy               3818 non-null   object \n",
      " 88  require_guest_profile_picture     3818 non-null   object \n",
      " 89  require_guest_phone_verification  3818 non-null   object \n",
      " 90  calculated_host_listings_count    3818 non-null   int64  \n",
      " 91  reviews_per_month                 3191 non-null   float64\n",
      "dtypes: float64(17), int64(13), object(62)\n",
      "memory usage: 2.7+ MB\n"
     ]
    }
   ],
   "source": [
    "df_listining.info()"
   ]
  },
  {
   "cell_type": "code",
   "execution_count": 8,
   "id": "6d19b3b7",
   "metadata": {},
   "outputs": [
    {
     "data": {
      "text/plain": [
       "0"
      ]
     },
     "execution_count": 8,
     "metadata": {},
     "output_type": "execute_result"
    }
   ],
   "source": [
    "# Check for the duplicate id\n",
    "df_listining.id.duplicated().sum()"
   ]
  },
  {
   "cell_type": "code",
   "execution_count": 9,
   "id": "a6be01de",
   "metadata": {
    "scrolled": false
   },
   "outputs": [
    {
     "data": {
      "text/html": [
       "<div>\n",
       "<style scoped>\n",
       "    .dataframe tbody tr th:only-of-type {\n",
       "        vertical-align: middle;\n",
       "    }\n",
       "\n",
       "    .dataframe tbody tr th {\n",
       "        vertical-align: top;\n",
       "    }\n",
       "\n",
       "    .dataframe thead th {\n",
       "        text-align: right;\n",
       "    }\n",
       "</style>\n",
       "<table border=\"1\" class=\"dataframe\">\n",
       "  <thead>\n",
       "    <tr style=\"text-align: right;\">\n",
       "      <th></th>\n",
       "      <th>listing_id</th>\n",
       "      <th>id</th>\n",
       "      <th>date</th>\n",
       "      <th>reviewer_id</th>\n",
       "      <th>reviewer_name</th>\n",
       "      <th>comments</th>\n",
       "    </tr>\n",
       "  </thead>\n",
       "  <tbody>\n",
       "    <tr>\n",
       "      <th>0</th>\n",
       "      <td>7202016</td>\n",
       "      <td>38917982</td>\n",
       "      <td>2015-07-19</td>\n",
       "      <td>28943674</td>\n",
       "      <td>Bianca</td>\n",
       "      <td>Cute and cozy place. Perfect location to every...</td>\n",
       "    </tr>\n",
       "    <tr>\n",
       "      <th>1</th>\n",
       "      <td>7202016</td>\n",
       "      <td>39087409</td>\n",
       "      <td>2015-07-20</td>\n",
       "      <td>32440555</td>\n",
       "      <td>Frank</td>\n",
       "      <td>Kelly has a great room in a very central locat...</td>\n",
       "    </tr>\n",
       "    <tr>\n",
       "      <th>2</th>\n",
       "      <td>7202016</td>\n",
       "      <td>39820030</td>\n",
       "      <td>2015-07-26</td>\n",
       "      <td>37722850</td>\n",
       "      <td>Ian</td>\n",
       "      <td>Very spacious apartment, and in a great neighb...</td>\n",
       "    </tr>\n",
       "    <tr>\n",
       "      <th>3</th>\n",
       "      <td>7202016</td>\n",
       "      <td>40813543</td>\n",
       "      <td>2015-08-02</td>\n",
       "      <td>33671805</td>\n",
       "      <td>George</td>\n",
       "      <td>Close to Seattle Center and all it has to offe...</td>\n",
       "    </tr>\n",
       "    <tr>\n",
       "      <th>4</th>\n",
       "      <td>7202016</td>\n",
       "      <td>41986501</td>\n",
       "      <td>2015-08-10</td>\n",
       "      <td>34959538</td>\n",
       "      <td>Ming</td>\n",
       "      <td>Kelly was a great host and very accommodating ...</td>\n",
       "    </tr>\n",
       "  </tbody>\n",
       "</table>\n",
       "</div>"
      ],
      "text/plain": [
       "   listing_id        id        date  reviewer_id reviewer_name  \\\n",
       "0     7202016  38917982  2015-07-19     28943674        Bianca   \n",
       "1     7202016  39087409  2015-07-20     32440555         Frank   \n",
       "2     7202016  39820030  2015-07-26     37722850           Ian   \n",
       "3     7202016  40813543  2015-08-02     33671805        George   \n",
       "4     7202016  41986501  2015-08-10     34959538          Ming   \n",
       "\n",
       "                                            comments  \n",
       "0  Cute and cozy place. Perfect location to every...  \n",
       "1  Kelly has a great room in a very central locat...  \n",
       "2  Very spacious apartment, and in a great neighb...  \n",
       "3  Close to Seattle Center and all it has to offe...  \n",
       "4  Kelly was a great host and very accommodating ...  "
      ]
     },
     "execution_count": 9,
     "metadata": {},
     "output_type": "execute_result"
    }
   ],
   "source": [
    "df_review.head(5)"
   ]
  },
  {
   "cell_type": "code",
   "execution_count": 10,
   "id": "c9076078",
   "metadata": {},
   "outputs": [
    {
     "data": {
      "text/plain": [
       "(84849, 6)"
      ]
     },
     "execution_count": 10,
     "metadata": {},
     "output_type": "execute_result"
    }
   ],
   "source": [
    "df_review.shape"
   ]
  },
  {
   "cell_type": "code",
   "execution_count": 11,
   "id": "6cd1ceb5",
   "metadata": {},
   "outputs": [
    {
     "name": "stdout",
     "output_type": "stream",
     "text": [
      "<class 'pandas.core.frame.DataFrame'>\n",
      "RangeIndex: 84849 entries, 0 to 84848\n",
      "Data columns (total 6 columns):\n",
      " #   Column         Non-Null Count  Dtype \n",
      "---  ------         --------------  ----- \n",
      " 0   listing_id     84849 non-null  int64 \n",
      " 1   id             84849 non-null  int64 \n",
      " 2   date           84849 non-null  object\n",
      " 3   reviewer_id    84849 non-null  int64 \n",
      " 4   reviewer_name  84849 non-null  object\n",
      " 5   comments       84831 non-null  object\n",
      "dtypes: int64(3), object(3)\n",
      "memory usage: 3.9+ MB\n"
     ]
    }
   ],
   "source": [
    "df_review.info()"
   ]
  },
  {
   "cell_type": "code",
   "execution_count": 12,
   "id": "32e912a3",
   "metadata": {},
   "outputs": [
    {
     "data": {
      "text/html": [
       "<div>\n",
       "<style scoped>\n",
       "    .dataframe tbody tr th:only-of-type {\n",
       "        vertical-align: middle;\n",
       "    }\n",
       "\n",
       "    .dataframe tbody tr th {\n",
       "        vertical-align: top;\n",
       "    }\n",
       "\n",
       "    .dataframe thead th {\n",
       "        text-align: right;\n",
       "    }\n",
       "</style>\n",
       "<table border=\"1\" class=\"dataframe\">\n",
       "  <thead>\n",
       "    <tr style=\"text-align: right;\">\n",
       "      <th></th>\n",
       "      <th>listing_id</th>\n",
       "      <th>date</th>\n",
       "      <th>available</th>\n",
       "      <th>price</th>\n",
       "    </tr>\n",
       "  </thead>\n",
       "  <tbody>\n",
       "    <tr>\n",
       "      <th>0</th>\n",
       "      <td>241032</td>\n",
       "      <td>2016-01-04</td>\n",
       "      <td>t</td>\n",
       "      <td>$85.00</td>\n",
       "    </tr>\n",
       "    <tr>\n",
       "      <th>1</th>\n",
       "      <td>241032</td>\n",
       "      <td>2016-01-05</td>\n",
       "      <td>t</td>\n",
       "      <td>$85.00</td>\n",
       "    </tr>\n",
       "    <tr>\n",
       "      <th>2</th>\n",
       "      <td>241032</td>\n",
       "      <td>2016-01-06</td>\n",
       "      <td>f</td>\n",
       "      <td>NaN</td>\n",
       "    </tr>\n",
       "    <tr>\n",
       "      <th>3</th>\n",
       "      <td>241032</td>\n",
       "      <td>2016-01-07</td>\n",
       "      <td>f</td>\n",
       "      <td>NaN</td>\n",
       "    </tr>\n",
       "    <tr>\n",
       "      <th>4</th>\n",
       "      <td>241032</td>\n",
       "      <td>2016-01-08</td>\n",
       "      <td>f</td>\n",
       "      <td>NaN</td>\n",
       "    </tr>\n",
       "  </tbody>\n",
       "</table>\n",
       "</div>"
      ],
      "text/plain": [
       "   listing_id        date available   price\n",
       "0      241032  2016-01-04         t  $85.00\n",
       "1      241032  2016-01-05         t  $85.00\n",
       "2      241032  2016-01-06         f     NaN\n",
       "3      241032  2016-01-07         f     NaN\n",
       "4      241032  2016-01-08         f     NaN"
      ]
     },
     "execution_count": 12,
     "metadata": {},
     "output_type": "execute_result"
    }
   ],
   "source": [
    "df_calendar.head()"
   ]
  },
  {
   "cell_type": "code",
   "execution_count": 13,
   "id": "e702471f",
   "metadata": {},
   "outputs": [
    {
     "data": {
      "text/plain": [
       "(1393570, 4)"
      ]
     },
     "execution_count": 13,
     "metadata": {},
     "output_type": "execute_result"
    }
   ],
   "source": [
    "df_calendar.shape"
   ]
  },
  {
   "cell_type": "code",
   "execution_count": 14,
   "id": "2e8ff385",
   "metadata": {},
   "outputs": [
    {
     "name": "stdout",
     "output_type": "stream",
     "text": [
      "<class 'pandas.core.frame.DataFrame'>\n",
      "RangeIndex: 1393570 entries, 0 to 1393569\n",
      "Data columns (total 4 columns):\n",
      " #   Column      Non-Null Count    Dtype \n",
      "---  ------      --------------    ----- \n",
      " 0   listing_id  1393570 non-null  int64 \n",
      " 1   date        1393570 non-null  object\n",
      " 2   available   1393570 non-null  object\n",
      " 3   price       934542 non-null   object\n",
      "dtypes: int64(1), object(3)\n",
      "memory usage: 42.5+ MB\n"
     ]
    }
   ],
   "source": [
    "df_calendar.info()"
   ]
  },
  {
   "cell_type": "code",
   "execution_count": 15,
   "id": "e6194225",
   "metadata": {},
   "outputs": [],
   "source": [
    "# Copy the data set\n",
    "df_list =df_listining.copy()"
   ]
  },
  {
   "cell_type": "code",
   "execution_count": 16,
   "id": "d99c4b3b",
   "metadata": {},
   "outputs": [
    {
     "data": {
      "text/plain": [
       "Seattle                  3810\n",
       "Seattle                     2\n",
       "West Seattle                2\n",
       "Ballard, Seattle            1\n",
       "seattle                     1\n",
       "Phinney Ridge Seattle       1\n",
       "西雅图                         1\n",
       "Name: city, dtype: int64"
      ]
     },
     "execution_count": 16,
     "metadata": {},
     "output_type": "execute_result"
    }
   ],
   "source": [
    "df_list.city.value_counts()"
   ]
  },
  {
   "cell_type": "code",
   "execution_count": 17,
   "id": "38fc5043",
   "metadata": {},
   "outputs": [
    {
     "data": {
      "text/plain": [
       "Seattle                  3813\n",
       "West Seattle                2\n",
       "Ballard, Seattle            1\n",
       "Phinney Ridge Seattle       1\n",
       "西雅图                         1\n",
       "Name: city, dtype: int64"
      ]
     },
     "execution_count": 17,
     "metadata": {},
     "output_type": "execute_result"
    }
   ],
   "source": [
    "# Capitalize each city name and remove the space from the end of the word.\n",
    "df_list['city'] = df_list['city'].str.rstrip().str.title()\n",
    "df_list.city.value_counts()"
   ]
  },
  {
   "cell_type": "code",
   "execution_count": 18,
   "id": "7dce026d",
   "metadata": {},
   "outputs": [
    {
     "data": {
      "text/plain": [
       "Seattle                  3813\n",
       "West Seattle                2\n",
       "Ballard, Seattle            1\n",
       "Phinney Ridge Seattle       1\n",
       "Name: city, dtype: int64"
      ]
     },
     "execution_count": 18,
     "metadata": {},
     "output_type": "execute_result"
    }
   ],
   "source": [
    "# Remove any city does not contain (Seattle)\n",
    "df_list = df_list[df_list['city'].str.contains('Seattle')]\n",
    "df_list['city'].value_counts()"
   ]
  },
  {
   "cell_type": "code",
   "execution_count": 19,
   "id": "1e9ddb6e",
   "metadata": {},
   "outputs": [
    {
     "data": {
      "text/plain": [
       "$150.00    0.042442\n",
       "$100.00    0.041656\n",
       "$75.00     0.030914\n",
       "$99.00     0.028818\n",
       "$95.00     0.028818\n",
       "             ...   \n",
       "$172.00    0.000262\n",
       "$420.00    0.000262\n",
       "$232.00    0.000262\n",
       "$269.00    0.000262\n",
       "$360.00    0.000262\n",
       "Name: price, Length: 273, dtype: float64"
      ]
     },
     "execution_count": 19,
     "metadata": {},
     "output_type": "execute_result"
    }
   ],
   "source": [
    "df_list.price.value_counts(30)"
   ]
  },
  {
   "cell_type": "code",
   "execution_count": 20,
   "id": "2809c167",
   "metadata": {},
   "outputs": [],
   "source": [
    "# Remove ($) and (,) symbols from the price \n",
    "# https://pbpython.com/currency-cleanup.html\n",
    "def change_price(p):\n",
    "    if isinstance(p, str):\n",
    "        return (p.replace(',','').replace('$',''))\n",
    "    else:\n",
    "        return p"
   ]
  },
  {
   "cell_type": "code",
   "execution_count": 21,
   "id": "478698e0",
   "metadata": {},
   "outputs": [],
   "source": [
    "# Clean all price columns and change the type \n",
    "all_prices = ['price', 'weekly_price', 'monthly_price', 'cleaning_fee', 'security_deposit']\n",
    "\n",
    "for item in all_prices:\n",
    "    df_list[item] = df_list[item].apply(change_price).astype('float')"
   ]
  },
  {
   "cell_type": "code",
   "execution_count": 22,
   "id": "7ffcc7ae",
   "metadata": {},
   "outputs": [
    {
     "data": {
      "text/plain": [
       "0        85.0\n",
       "1       150.0\n",
       "2       975.0\n",
       "3       100.0\n",
       "4       450.0\n",
       "        ...  \n",
       "3813    359.0\n",
       "3814     79.0\n",
       "3815     93.0\n",
       "3816     99.0\n",
       "3817     87.0\n",
       "Name: price, Length: 3817, dtype: float64"
      ]
     },
     "execution_count": 22,
     "metadata": {},
     "output_type": "execute_result"
    }
   ],
   "source": [
    "df_list.price"
   ]
  },
  {
   "cell_type": "code",
   "execution_count": 23,
   "id": "2c3633ca",
   "metadata": {},
   "outputs": [
    {
     "data": {
      "text/plain": [
       "dtype('float64')"
      ]
     },
     "execution_count": 23,
     "metadata": {},
     "output_type": "execute_result"
    }
   ],
   "source": [
    "df_list.monthly_price.dtypes"
   ]
  },
  {
   "cell_type": "code",
   "execution_count": 24,
   "id": "7b781cc8",
   "metadata": {
    "scrolled": true
   },
   "outputs": [
    {
     "data": {
      "text/plain": [
       "host_response_time\n",
       "within a few hours    133.824380\n",
       "within a day          132.819095\n",
       "a few days or more    129.157895\n",
       "within an hour        116.405086\n",
       "Name: price, dtype: float64"
      ]
     },
     "execution_count": 24,
     "metadata": {},
     "output_type": "execute_result"
    }
   ],
   "source": [
    "df_list.groupby('host_response_time').mean()['price'].sort_values(ascending= False)"
   ]
  },
  {
   "cell_type": "markdown",
   "id": "bdf90853",
   "metadata": {},
   "source": [
    "Calculate the percentage of missing value in the entire dataframe\n"
   ]
  },
  {
   "cell_type": "code",
   "execution_count": 25,
   "id": "2cc3c49b",
   "metadata": {},
   "outputs": [
    {
     "data": {
      "text/plain": [
       "2"
      ]
     },
     "execution_count": 25,
     "metadata": {},
     "output_type": "execute_result"
    }
   ],
   "source": [
    "#Check number of columns that contain more than 75% of missing values.\n",
    "(df_list.isnull().sum()/df_list.shape[0] > 0.75).sum()"
   ]
  },
  {
   "cell_type": "code",
   "execution_count": 26,
   "id": "a12d098b",
   "metadata": {},
   "outputs": [
    {
     "name": "stdout",
     "output_type": "stream",
     "text": [
      "Index(['square_feet', 'license'], dtype='object') 92\n"
     ]
    }
   ],
   "source": [
    "# Select the columns that contain more than 75% of missing values.\n",
    "mss_col = df_list.columns[df_list.isnull().sum()/df_list.shape[0] > 0.75]\n",
    "print (mss_col,df_list.shape[1] )"
   ]
  },
  {
   "cell_type": "code",
   "execution_count": 27,
   "id": "634ad6b8",
   "metadata": {},
   "outputs": [
    {
     "name": "stdout",
     "output_type": "stream",
     "text": [
      "90\n"
     ]
    }
   ],
   "source": [
    "# Drop the columns that contain more than 75% of missing values.\n",
    "df_list = df_list.drop(mss_col, axis=1)\n",
    "print (df_list.shape[1] )"
   ]
  },
  {
   "cell_type": "code",
   "execution_count": 28,
   "id": "4eb8f7be",
   "metadata": {},
   "outputs": [],
   "source": [
    "# Check if there is any entire column contain the same value.\n",
    "unq_col= []\n",
    "for col in df_list.columns:\n",
    "    if (len(df_list[col].unique()) == 1):\n",
    "        unq_col.append(col)"
   ]
  },
  {
   "cell_type": "code",
   "execution_count": 29,
   "id": "378fb947",
   "metadata": {},
   "outputs": [
    {
     "data": {
      "text/plain": [
       "['scrape_id',\n",
       " 'last_scraped',\n",
       " 'experiences_offered',\n",
       " 'market',\n",
       " 'country_code',\n",
       " 'country',\n",
       " 'has_availability',\n",
       " 'calendar_last_scraped',\n",
       " 'requires_license',\n",
       " 'jurisdiction_names']"
      ]
     },
     "execution_count": 29,
     "metadata": {},
     "output_type": "execute_result"
    }
   ],
   "source": [
    "unq_col"
   ]
  },
  {
   "cell_type": "code",
   "execution_count": 30,
   "id": "f2c0913b",
   "metadata": {},
   "outputs": [
    {
     "data": {
      "text/plain": [
       "20160104002432    3817\n",
       "Name: scrape_id, dtype: int64"
      ]
     },
     "execution_count": 30,
     "metadata": {},
     "output_type": "execute_result"
    }
   ],
   "source": [
    "df_list.scrape_id.value_counts()"
   ]
  },
  {
   "cell_type": "code",
   "execution_count": 31,
   "id": "5946d1b1",
   "metadata": {},
   "outputs": [
    {
     "name": "stdout",
     "output_type": "stream",
     "text": [
      "80\n"
     ]
    }
   ],
   "source": [
    "# Drop the columns that contain the same value.\n",
    "df_list.drop(unq_col, axis=1, inplace= True)\n",
    "print (df_list.shape[1] )"
   ]
  },
  {
   "cell_type": "markdown",
   "id": "c713090f",
   "metadata": {},
   "source": [
    "Drop uninterested columns - Categorical and Numeric columns."
   ]
  },
  {
   "cell_type": "code",
   "execution_count": 32,
   "id": "02901ec4",
   "metadata": {},
   "outputs": [
    {
     "data": {
      "text/plain": [
       "Index(['listing_url', 'name', 'summary', 'space', 'description',\n",
       "       'neighborhood_overview', 'notes', 'transit', 'thumbnail_url',\n",
       "       'medium_url', 'picture_url', 'xl_picture_url', 'host_url', 'host_name',\n",
       "       'host_since', 'host_location', 'host_about', 'host_response_time',\n",
       "       'host_response_rate', 'host_acceptance_rate', 'host_is_superhost',\n",
       "       'host_thumbnail_url', 'host_picture_url', 'host_neighbourhood',\n",
       "       'host_verifications', 'host_has_profile_pic', 'host_identity_verified',\n",
       "       'street', 'neighbourhood', 'neighbourhood_cleansed',\n",
       "       'neighbourhood_group_cleansed', 'city', 'state', 'zipcode',\n",
       "       'smart_location', 'is_location_exact', 'property_type', 'room_type',\n",
       "       'bed_type', 'amenities', 'extra_people', 'calendar_updated',\n",
       "       'first_review', 'last_review', 'instant_bookable',\n",
       "       'cancellation_policy', 'require_guest_profile_picture',\n",
       "       'require_guest_phone_verification'],\n",
       "      dtype='object')"
      ]
     },
     "execution_count": 32,
     "metadata": {},
     "output_type": "execute_result"
    }
   ],
   "source": [
    "# Subset to a dataframe only holding the categorical columns\n",
    "cat_list_raw = df_list.select_dtypes(include=['object']).columns\n",
    "cat_list_raw"
   ]
  },
  {
   "cell_type": "code",
   "execution_count": 33,
   "id": "8ea0f762",
   "metadata": {},
   "outputs": [],
   "source": [
    "# Select useful categorical columns.\n",
    "cat_list_usfl = ['host_response_time','host_is_superhost', 'neighbourhood_group_cleansed','property_type', \n",
    "                'room_type', 'bed_type', 'cancellation_policy']\n",
    "\n",
    "# Select unuseful categorical columns for dropping.\n",
    "cat_list_drp = [i for i in cat_list_raw if i not in cat_list_usfl]\n",
    "\n",
    "df_list.drop(cat_list_drp, axis=1, inplace= True)"
   ]
  },
  {
   "cell_type": "code",
   "execution_count": 34,
   "id": "eeb81158",
   "metadata": {},
   "outputs": [
    {
     "data": {
      "text/plain": [
       "Index(['id', 'host_id', 'host_listings_count', 'host_total_listings_count',\n",
       "       'latitude', 'longitude', 'accommodates', 'bathrooms', 'bedrooms',\n",
       "       'beds', 'price', 'weekly_price', 'monthly_price', 'security_deposit',\n",
       "       'cleaning_fee', 'guests_included', 'minimum_nights', 'maximum_nights',\n",
       "       'availability_30', 'availability_60', 'availability_90',\n",
       "       'availability_365', 'number_of_reviews', 'review_scores_rating',\n",
       "       'review_scores_accuracy', 'review_scores_cleanliness',\n",
       "       'review_scores_checkin', 'review_scores_communication',\n",
       "       'review_scores_location', 'review_scores_value',\n",
       "       'calculated_host_listings_count', 'reviews_per_month'],\n",
       "      dtype='object')"
      ]
     },
     "execution_count": 34,
     "metadata": {},
     "output_type": "execute_result"
    }
   ],
   "source": [
    "# Subset to a dataframe only holding the numeric columns\n",
    "num_list_raw = df_list.select_dtypes(include=['int64', 'float64']).columns\n",
    "num_list_raw"
   ]
  },
  {
   "cell_type": "code",
   "execution_count": 35,
   "id": "d51f344d",
   "metadata": {},
   "outputs": [],
   "source": [
    "# Select useful numeric columns.\n",
    "num_list_usfl = ['bathrooms', 'bedrooms','beds', 'price', 'weekly_price', 'monthly_price', 'security_deposit',\n",
    "                'cleaning_fee', 'review_scores_rating', 'review_scores_accuracy', 'review_scores_cleanliness',\n",
    "                'review_scores_communication', 'review_scores_location']\n",
    "\n",
    "# Select unuseful numeric columns for dropping.\n",
    "num_list_drp = [j for j in num_list_raw if j not in num_list_usfl]\n",
    "\n",
    "df_list.drop(num_list_drp, axis=1, inplace= True)"
   ]
  },
  {
   "cell_type": "code",
   "execution_count": 36,
   "id": "c9fbd338",
   "metadata": {},
   "outputs": [
    {
     "data": {
      "text/plain": [
       "Index(['host_response_time', 'host_is_superhost',\n",
       "       'neighbourhood_group_cleansed', 'property_type', 'room_type',\n",
       "       'bathrooms', 'bedrooms', 'beds', 'bed_type', 'price', 'weekly_price',\n",
       "       'monthly_price', 'security_deposit', 'cleaning_fee',\n",
       "       'review_scores_rating', 'review_scores_accuracy',\n",
       "       'review_scores_cleanliness', 'review_scores_communication',\n",
       "       'review_scores_location', 'cancellation_policy'],\n",
       "      dtype='object')"
      ]
     },
     "execution_count": 36,
     "metadata": {},
     "output_type": "execute_result"
    }
   ],
   "source": [
    "df_list.columns"
   ]
  },
  {
   "cell_type": "code",
   "execution_count": 37,
   "id": "d2a36a10",
   "metadata": {},
   "outputs": [
    {
     "data": {
      "text/plain": [
       "host_response_time               523\n",
       "host_is_superhost                  2\n",
       "neighbourhood_group_cleansed       0\n",
       "property_type                      1\n",
       "room_type                          0\n",
       "bathrooms                         16\n",
       "bedrooms                           6\n",
       "beds                               1\n",
       "bed_type                           0\n",
       "price                              0\n",
       "weekly_price                    1808\n",
       "monthly_price                   2300\n",
       "security_deposit                1951\n",
       "cleaning_fee                    1029\n",
       "review_scores_rating             647\n",
       "review_scores_accuracy           658\n",
       "review_scores_cleanliness        653\n",
       "review_scores_communication      651\n",
       "review_scores_location           655\n",
       "cancellation_policy                0\n",
       "dtype: int64"
      ]
     },
     "execution_count": 37,
     "metadata": {},
     "output_type": "execute_result"
    }
   ],
   "source": [
    "df_list.isnull().sum()"
   ]
  },
  {
   "cell_type": "code",
   "execution_count": 38,
   "id": "b84aa655",
   "metadata": {},
   "outputs": [],
   "source": [
    "# Drop the rows with missing values in host_response_time, 'property_type' and 'beds' columns.\n",
    "df_list = df_list.dropna(subset= ['host_response_time', 'property_type', 'beds'])"
   ]
  },
  {
   "cell_type": "code",
   "execution_count": 39,
   "id": "5c7a256c",
   "metadata": {},
   "outputs": [
    {
     "data": {
      "text/plain": [
       "host_response_time                 0\n",
       "host_is_superhost                  0\n",
       "neighbourhood_group_cleansed       0\n",
       "property_type                      0\n",
       "room_type                          0\n",
       "bathrooms                         13\n",
       "bedrooms                           6\n",
       "beds                               0\n",
       "bed_type                           0\n",
       "price                              0\n",
       "weekly_price                    1506\n",
       "monthly_price                   1896\n",
       "security_deposit                1636\n",
       "cleaning_fee                     812\n",
       "review_scores_rating             434\n",
       "review_scores_accuracy           441\n",
       "review_scores_cleanliness        436\n",
       "review_scores_communication      435\n",
       "review_scores_location           439\n",
       "cancellation_policy                0\n",
       "dtype: int64"
      ]
     },
     "execution_count": 39,
     "metadata": {},
     "output_type": "execute_result"
    }
   ],
   "source": [
    "df_list.isnull().sum()"
   ]
  },
  {
   "cell_type": "markdown",
   "id": "053a63de",
   "metadata": {},
   "source": [
    "- We didn't find a reasonable relation between the ['weekly_price', 'monthly_price','security_deposit','cleaning_fee'] columns to recalculate their missed values; we have to fill the coulumns with zero.\n",
    "- Fill the review columns with 0.\n",
    "- In general, any property has at least one bathroom, so we'll fill in the missing value in the Bathrooms column with one."
   ]
  },
  {
   "cell_type": "code",
   "execution_count": 40,
   "id": "a2896377",
   "metadata": {},
   "outputs": [],
   "source": [
    "review_cols = ['review_scores_rating', 'review_scores_accuracy', 'review_scores_cleanliness', 'review_scores_communication',\n",
    "              'review_scores_location','weekly_price', 'monthly_price','security_deposit','cleaning_fee','bedrooms']\n",
    "\n",
    "df_list[review_cols] = df_list[review_cols].fillna(0)\n",
    "df_list['bathrooms'] = df_list['bathrooms'].fillna(1)"
   ]
  },
  {
   "cell_type": "code",
   "execution_count": 41,
   "id": "13f03252",
   "metadata": {},
   "outputs": [
    {
     "data": {
      "text/plain": [
       "host_response_time              0\n",
       "host_is_superhost               0\n",
       "neighbourhood_group_cleansed    0\n",
       "property_type                   0\n",
       "room_type                       0\n",
       "bathrooms                       0\n",
       "bedrooms                        0\n",
       "beds                            0\n",
       "bed_type                        0\n",
       "price                           0\n",
       "weekly_price                    0\n",
       "monthly_price                   0\n",
       "security_deposit                0\n",
       "cleaning_fee                    0\n",
       "review_scores_rating            0\n",
       "review_scores_accuracy          0\n",
       "review_scores_cleanliness       0\n",
       "review_scores_communication     0\n",
       "review_scores_location          0\n",
       "cancellation_policy             0\n",
       "dtype: int64"
      ]
     },
     "execution_count": 41,
     "metadata": {},
     "output_type": "execute_result"
    }
   ],
   "source": [
    "df_list.isnull().sum()"
   ]
  },
  {
   "cell_type": "code",
   "execution_count": 42,
   "id": "0e1764c4",
   "metadata": {},
   "outputs": [],
   "source": [
    "# Dividing the (review_scores_rating) column values by 10\n",
    "df_list['review_scores_rating'] = df_list['review_scores_rating'] / 10"
   ]
  },
  {
   "cell_type": "code",
   "execution_count": 43,
   "id": "695bd689",
   "metadata": {},
   "outputs": [
    {
     "data": {
      "text/plain": [
       "1.0    2077\n",
       "2.0     571\n",
       "0.0     331\n",
       "3.0     236\n",
       "4.0      51\n",
       "5.0      20\n",
       "6.0       5\n",
       "7.0       1\n",
       "Name: bedrooms, dtype: int64"
      ]
     },
     "execution_count": 43,
     "metadata": {},
     "output_type": "execute_result"
    }
   ],
   "source": [
    "df_list.bedrooms.value_counts()"
   ]
  },
  {
   "cell_type": "markdown",
   "id": "d9e2d37b",
   "metadata": {},
   "source": [
    "## Visualization"
   ]
  },
  {
   "cell_type": "markdown",
   "id": "ebd1b1fa",
   "metadata": {},
   "source": [
    "#### Does the host respond to the guest on time for the booking?"
   ]
  },
  {
   "cell_type": "code",
   "execution_count": 44,
   "id": "3cca8e40",
   "metadata": {},
   "outputs": [
    {
     "data": {
      "image/png": "[encoded data removed]",
      "text/plain": [
       "<Figure size 432x288 with 1 Axes>"
      ]
     },
     "metadata": {
      "needs_background": "light"
     },
     "output_type": "display_data"
    }
   ],
   "source": [
    "# Provide the proportion of each host response time\n",
    "\n",
    "#https://stackoverflow.com/questions/25447700/annotate-bars-with-values-on-pandas-bar-plots\n",
    "\n",
    "#reset parameters\n",
    "#plt.rcParams.update(plt.rcParamsDefault)\n",
    "\n",
    "host_resp = df_list.host_response_time.value_counts()\n",
    "ax1 = (host_resp/df_list.shape[0]* 100).plot(kind=\"bar\")\n",
    "\n",
    "for i in ax1.patches:\n",
    "    ax1.annotate(str(round(i.get_height()))+'%', (i.get_x() +.15, i.get_height()+0.5))\n",
    "    \n",
    "plt.title(\"The proportion of each host response time\")\n",
    "plt.xlabel('Host response time')\n",
    "plt.ylabel('Host proportion');"
   ]
  },
  {
   "cell_type": "markdown",
   "id": "21eae877",
   "metadata": {},
   "source": [
    "About 50% of hosts responded within an hour, 29% of them responded within a few hours, 18% responded within a day, and 1% took a few days or more to response."
   ]
  },
  {
   "cell_type": "markdown",
   "id": "7deb0016",
   "metadata": {},
   "source": [
    "####  Does host response time affect the average price?"
   ]
  },
  {
   "cell_type": "code",
   "execution_count": 45,
   "id": "03c0e861",
   "metadata": {},
   "outputs": [
    {
     "data": {
      "image/png": "[encoded data removed]",
      "text/plain": [
       "<Figure size 432x288 with 1 Axes>"
      ]
     },
     "metadata": {
      "needs_background": "light"
     },
     "output_type": "display_data"
    }
   ],
   "source": [
    "#Check the effect of host_response_time factor on the average of price.\n",
    "\n",
    "# reset parameters\n",
    "#plt.rcParams.update(plt.rcParamsDefault)\n",
    "\n",
    "# Choosing the first tuple of RGB colors.\n",
    "base_color = sns.color_palette()[0]\n",
    "\n",
    "sns.boxplot(data = df_list, x='host_response_time', y='price', color=base_color)\n",
    "plt.xticks(rotation=15);"
   ]
  },
  {
   "cell_type": "markdown",
   "id": "ff084966",
   "metadata": {},
   "source": [
    "Compared with the previous result, we can notice that the outliers made a difference in the result. There is no a significant difference between them. The majority of hosts respond within a day and within a few house.  "
   ]
  },
  {
   "cell_type": "markdown",
   "id": "93133d3a",
   "metadata": {},
   "source": [
    "#### Is the host a super host?"
   ]
  },
  {
   "cell_type": "code",
   "execution_count": 46,
   "id": "c7241bca",
   "metadata": {
    "scrolled": true
   },
   "outputs": [
    {
     "data": {
      "image/png": "[encoded data removed]",
      "text/plain": [
       "<Figure size 288x216 with 1 Axes>"
      ]
     },
     "metadata": {
      "needs_background": "light"
     },
     "output_type": "display_data"
    }
   ],
   "source": [
    "#Provide the counts host status.\n",
    "plt.figure(figsize=[4,3])\n",
    "sns.countplot(data=df_list, x='host_is_superhost', color=base_color);"
   ]
  },
  {
   "cell_type": "code",
   "execution_count": 47,
   "id": "2115d5fc",
   "metadata": {},
   "outputs": [
    {
     "data": {
      "text/plain": [
       "f    2547\n",
       "t     745\n",
       "Name: host_is_superhost, dtype: int64"
      ]
     },
     "execution_count": 47,
     "metadata": {},
     "output_type": "execute_result"
    }
   ],
   "source": [
    "df_list['host_is_superhost'].value_counts()"
   ]
  },
  {
   "cell_type": "markdown",
   "id": "62e24d43",
   "metadata": {},
   "source": [
    "The majority of hosts are categorized as non-superhost."
   ]
  },
  {
   "cell_type": "markdown",
   "id": "9f75004f",
   "metadata": {},
   "source": [
    "#### What are the favorite neighborhoods by guests in Seattle?"
   ]
  },
  {
   "cell_type": "code",
   "execution_count": 48,
   "id": "348da2f3",
   "metadata": {
    "scrolled": true
   },
   "outputs": [
    {
     "data": {
      "image/png": "[encoded data removed]",
      "text/plain": [
       "<Figure size 576x360 with 1 Axes>"
      ]
     },
     "metadata": {
      "needs_background": "light"
     },
     "output_type": "display_data"
    }
   ],
   "source": [
    "# The favorite neighbourhoods in Seatle.\n",
    "plt.figure(figsize = [8,5])\n",
    "# Choosing the first tuple of RGB colors.\n",
    "base_color = sns.color_palette()[0]\n",
    "\n",
    "# displaying the descending order of the bars of the frequency of each unique value in the 'neighbourhood_group_cleansed'\n",
    "#column.\n",
    "new_order = df_list.neighbourhood_group_cleansed.value_counts().index\n",
    "sns.countplot(data = df_list, x= 'neighbourhood_group_cleansed', color=base_color, order = new_order)\n",
    "plt.title(\"The favorite neighbourhoods in Seattle\")\n",
    "plt.xticks(rotation = 90);"
   ]
  },
  {
   "cell_type": "markdown",
   "id": "aab9805f",
   "metadata": {},
   "source": [
    "- The most popular neighborhoods in Seattle are Downtown and Capitol Hill. The Central District and Queen Anne neighborhoods have a good number to be preferred.\n",
    "- The less popular neighbourhoods in Seattle is Interbay, as well as Northgate, Cascade, Delridge, Magnolia, Lake City, and Seward Park scored are less favorite neighbourhoods."
   ]
  },
  {
   "cell_type": "markdown",
   "id": "098e4ac3",
   "metadata": {},
   "source": [
    " #### Do neighborhood locations affect the average price?"
   ]
  },
  {
   "cell_type": "code",
   "execution_count": 49,
   "id": "c823c47b",
   "metadata": {},
   "outputs": [
    {
     "data": {
      "text/plain": [
       "Text(0.5, 0, 'Average price ($)')"
      ]
     },
     "execution_count": 49,
     "metadata": {},
     "output_type": "execute_result"
    },
    {
     "data": {
      "image/png": "[encoded data removed]",
      "text/plain": [
       "<Figure size 576x504 with 1 Axes>"
      ]
     },
     "metadata": {
      "needs_background": "light"
     },
     "output_type": "display_data"
    }
   ],
   "source": [
    "# The effect of neighbourhoods on average price\n",
    "plt.figure(figsize = [8,7])\n",
    "df_list.groupby('neighbourhood_group_cleansed').mean()['price'].sort_values().plot(kind = 'barh')\n",
    "plt.title(\"Neighbourhood Vs. Price\")\n",
    "plt.ylabel(\"Neighbourhood group\")\n",
    "plt.xlabel(\"Average price ($)\")"
   ]
  },
  {
   "cell_type": "markdown",
   "id": "3c393da4",
   "metadata": {},
   "source": [
    "Magnolia, Downtown and Queen Anne neighborhoods are the  most influential on rental price. On the other hand, Delridge, Northgate, and Lake City neighborhoods have less impact on the rental price."
   ]
  },
  {
   "cell_type": "markdown",
   "id": "7ecccca5",
   "metadata": {},
   "source": [
    "#### What type of property is most demanded by the guest?  Does the property type affect the average price?"
   ]
  },
  {
   "cell_type": "code",
   "execution_count": 50,
   "id": "fba84944",
   "metadata": {},
   "outputs": [
    {
     "data": {
      "image/png": "[encoded data removed]",
      "text/plain": [
       "<Figure size 1008x360 with 2 Axes>"
      ]
     },
     "metadata": {
      "needs_background": "light"
     },
     "output_type": "display_data"
    }
   ],
   "source": [
    "# The favorite property type in Seatle.\n",
    "plt.figure(figsize = [14,5])\n",
    "\n",
    "plt.subplot(1,2,1)\n",
    "\n",
    "pro_typ = df_list.property_type.value_counts()\n",
    "(pro_typ/df_list.shape[0]).plot(kind=\"bar\")\n",
    "plt.title(\"The popular type of property demanded by the guest in Seattle\")\n",
    "plt.xlabel('Property Type')\n",
    "plt.ylabel('Property Type proportion');\n",
    "\n",
    "# The effect of neighbourhoods on average price\n",
    "plt.subplot(1, 2, 2)\n",
    "ax = df_list.groupby('property_type').mean()['price'].sort_values(ascending = False).plot(kind = 'bar')\n",
    "\n",
    "for i in ax.patches:\n",
    "    ax.annotate(str(round(i.get_height()))+'$', (i.get_x() +.02, i.get_height()+5))\n",
    "    \n",
    "plt.title(\"The average price of each property type in Seattle\")\n",
    "plt.xlabel(\"Property Type\")\n",
    "plt.ylabel(\"Average price ($)\");"
   ]
  },
  {
   "cell_type": "markdown",
   "id": "62a7a9f3",
   "metadata": {},
   "source": [
    "About 45% of guests prefer to rent a house or apartment.\n",
    "The boat is the most expensive rental property of all types and the tent is the cheapest. Townhouse, House, Apartment, Bungalow almost have the same average price although Bungalow is not preferred by guests."
   ]
  },
  {
   "cell_type": "markdown",
   "id": "08ee8445",
   "metadata": {},
   "source": [
    "#### What type of room is most demanded by the guest?  Does the room type affect the average price?"
   ]
  },
  {
   "cell_type": "code",
   "execution_count": 51,
   "id": "11aeccbf",
   "metadata": {},
   "outputs": [
    {
     "data": {
      "image/png": "[encoded data removed]",
      "text/plain": [
       "<Figure size 936x288 with 2 Axes>"
      ]
     },
     "metadata": {
      "needs_background": "light"
     },
     "output_type": "display_data"
    }
   ],
   "source": [
    "# The favorite room type in Seatle.\n",
    "plt.figure(figsize = [13,4])\n",
    "\n",
    "plt.subplot(1,2,1)\n",
    "\n",
    "room_typ = df_list.room_type.value_counts()\n",
    "ax3 = (room_typ/df_list.shape[0]*100).plot(kind=\"bar\")\n",
    "\n",
    "for i in ax3.patches:\n",
    "    ax3.annotate(str(round(i.get_height()))+'%', (i.get_x() +.15, i.get_height()+0.5))\n",
    "\n",
    "plt.title(\"The Room type demanded by the guest in Seattle\")\n",
    "plt.xlabel('Room Type')\n",
    "plt.ylabel('Room Type proportion');\n",
    "\n",
    "# The effect of room type on the average price.\n",
    "plt.subplot(1, 2, 2)\n",
    "ax = df_list.groupby('room_type').mean()['price'].sort_values(ascending=False).plot(kind = 'bar')\n",
    "\n",
    "for i in ax.patches:\n",
    "    ax.annotate(str(round(i.get_height()))+'$', (i.get_x() +.15, i.get_height()+2))\n",
    "    \n",
    "plt.title(\"The average price of each Room type in Seattle\")\n",
    "plt.xlabel(\"Room Type\")\n",
    "plt.ylabel(\"Average price ($)\");"
   ]
  },
  {
   "cell_type": "markdown",
   "id": "6f9e238d",
   "metadata": {},
   "source": [
    "About 67% of guests prefer to rent an entire house or apartment, 30% of guests prefer to rent a private room, and 3% of them prefer a shared room. The entire house or apartment is the most expensive rental property than the other types and the shared room is the cheapest one."
   ]
  },
  {
   "cell_type": "markdown",
   "id": "6e8857cf",
   "metadata": {},
   "source": [
    "#### What are the cancellation policy types in Seattle?  Does the cancellation policy type affect the average price?"
   ]
  },
  {
   "cell_type": "code",
   "execution_count": 52,
   "id": "1ec20b9b",
   "metadata": {},
   "outputs": [
    {
     "data": {
      "image/png": "[encoded data removed]",
      "text/plain": [
       "<Figure size 1080x360 with 2 Axes>"
      ]
     },
     "metadata": {
      "needs_background": "light"
     },
     "output_type": "display_data"
    }
   ],
   "source": [
    "# The effect of cancellation policy on average price\n",
    "\n",
    "#plt.rcParams.update(plt.rcParamsDefault)\n",
    "\n",
    "plt.figure(figsize = [15,5])\n",
    "plt.subplot(1,2,1)\n",
    "\n",
    "pol_type = df_list.cancellation_policy.value_counts()\n",
    "ax2 = (pol_type/df_list.shape[0] * 100).plot(kind=\"bar\");\n",
    "\n",
    "for i in ax2.patches:\n",
    "    ax2.annotate(str(round(i.get_height()))+'%', (i.get_x() +.15, i.get_height()+0.5))\n",
    "    \n",
    "plt.title(\"The proportion of each policy cancellation type in Seattle\")\n",
    "plt.xlabel('Cancellation Policy Type')\n",
    "plt.ylabel('Cancellation Policy Type proportion')\n",
    "plt.xticks(rotation=0);\n",
    "\n",
    "plt.subplot(1,2,2)\n",
    "ax = df_list.groupby('cancellation_policy').mean()['price'].sort_values(ascending=False).plot(kind = 'bar')\n",
    "\n",
    "for i in ax.patches:\n",
    "    ax.annotate(str(round(i.get_height()))+'$', (i.get_x() +.15, i.get_height()+2))\n",
    "    \n",
    "plt.title(\"The average price Vs. cancellation policy\")\n",
    "plt.xlabel(\"Cancellation Policy Type\")\n",
    "plt.ylabel(\"Average price ($)\")\n",
    "plt.xticks(rotation=0);"
   ]
  },
  {
   "cell_type": "markdown",
   "id": "77f42754",
   "metadata": {},
   "source": [
    "Although the strict type of cancellation policy is the most expensive type, 40% of guests demanded it. 33% of guests prefer the moderate type of cancellation policy and 27% of them rather the flexible type which is the cheapest type."
   ]
  },
  {
   "cell_type": "markdown",
   "id": "96b65fcf",
   "metadata": {},
   "source": [
    "#### What is the average price trend throughout the year (2016)?"
   ]
  },
  {
   "cell_type": "code",
   "execution_count": 53,
   "id": "cc533da0",
   "metadata": {
    "scrolled": true
   },
   "outputs": [
    {
     "data": {
      "text/html": [
       "<div>\n",
       "<style scoped>\n",
       "    .dataframe tbody tr th:only-of-type {\n",
       "        vertical-align: middle;\n",
       "    }\n",
       "\n",
       "    .dataframe tbody tr th {\n",
       "        vertical-align: top;\n",
       "    }\n",
       "\n",
       "    .dataframe thead th {\n",
       "        text-align: right;\n",
       "    }\n",
       "</style>\n",
       "<table border=\"1\" class=\"dataframe\">\n",
       "  <thead>\n",
       "    <tr style=\"text-align: right;\">\n",
       "      <th></th>\n",
       "      <th>listing_id</th>\n",
       "      <th>date</th>\n",
       "      <th>available</th>\n",
       "      <th>price</th>\n",
       "    </tr>\n",
       "  </thead>\n",
       "  <tbody>\n",
       "    <tr>\n",
       "      <th>0</th>\n",
       "      <td>241032</td>\n",
       "      <td>2016-01-04</td>\n",
       "      <td>t</td>\n",
       "      <td>$85.00</td>\n",
       "    </tr>\n",
       "    <tr>\n",
       "      <th>1</th>\n",
       "      <td>241032</td>\n",
       "      <td>2016-01-05</td>\n",
       "      <td>t</td>\n",
       "      <td>$85.00</td>\n",
       "    </tr>\n",
       "    <tr>\n",
       "      <th>2</th>\n",
       "      <td>241032</td>\n",
       "      <td>2016-01-06</td>\n",
       "      <td>f</td>\n",
       "      <td>NaN</td>\n",
       "    </tr>\n",
       "    <tr>\n",
       "      <th>3</th>\n",
       "      <td>241032</td>\n",
       "      <td>2016-01-07</td>\n",
       "      <td>f</td>\n",
       "      <td>NaN</td>\n",
       "    </tr>\n",
       "    <tr>\n",
       "      <th>4</th>\n",
       "      <td>241032</td>\n",
       "      <td>2016-01-08</td>\n",
       "      <td>f</td>\n",
       "      <td>NaN</td>\n",
       "    </tr>\n",
       "    <tr>\n",
       "      <th>...</th>\n",
       "      <td>...</td>\n",
       "      <td>...</td>\n",
       "      <td>...</td>\n",
       "      <td>...</td>\n",
       "    </tr>\n",
       "    <tr>\n",
       "      <th>595</th>\n",
       "      <td>953595</td>\n",
       "      <td>2016-08-21</td>\n",
       "      <td>t</td>\n",
       "      <td>$188.00</td>\n",
       "    </tr>\n",
       "    <tr>\n",
       "      <th>596</th>\n",
       "      <td>953595</td>\n",
       "      <td>2016-08-22</td>\n",
       "      <td>t</td>\n",
       "      <td>$182.00</td>\n",
       "    </tr>\n",
       "    <tr>\n",
       "      <th>597</th>\n",
       "      <td>953595</td>\n",
       "      <td>2016-08-23</td>\n",
       "      <td>t</td>\n",
       "      <td>$181.00</td>\n",
       "    </tr>\n",
       "    <tr>\n",
       "      <th>598</th>\n",
       "      <td>953595</td>\n",
       "      <td>2016-08-24</td>\n",
       "      <td>t</td>\n",
       "      <td>$184.00</td>\n",
       "    </tr>\n",
       "    <tr>\n",
       "      <th>599</th>\n",
       "      <td>953595</td>\n",
       "      <td>2016-08-25</td>\n",
       "      <td>t</td>\n",
       "      <td>$190.00</td>\n",
       "    </tr>\n",
       "  </tbody>\n",
       "</table>\n",
       "<p>600 rows × 4 columns</p>\n",
       "</div>"
      ],
      "text/plain": [
       "     listing_id        date available    price\n",
       "0        241032  2016-01-04         t   $85.00\n",
       "1        241032  2016-01-05         t   $85.00\n",
       "2        241032  2016-01-06         f      NaN\n",
       "3        241032  2016-01-07         f      NaN\n",
       "4        241032  2016-01-08         f      NaN\n",
       "..          ...         ...       ...      ...\n",
       "595      953595  2016-08-21         t  $188.00\n",
       "596      953595  2016-08-22         t  $182.00\n",
       "597      953595  2016-08-23         t  $181.00\n",
       "598      953595  2016-08-24         t  $184.00\n",
       "599      953595  2016-08-25         t  $190.00\n",
       "\n",
       "[600 rows x 4 columns]"
      ]
     },
     "execution_count": 53,
     "metadata": {},
     "output_type": "execute_result"
    }
   ],
   "source": [
    "lst_calendar = df_calendar.copy()\n",
    "lst_calendar.head(600)"
   ]
  },
  {
   "cell_type": "code",
   "execution_count": 54,
   "id": "d4cc9c2b",
   "metadata": {
    "scrolled": true
   },
   "outputs": [
    {
     "name": "stdout",
     "output_type": "stream",
     "text": [
      "<class 'pandas.core.frame.DataFrame'>\n",
      "RangeIndex: 1393570 entries, 0 to 1393569\n",
      "Data columns (total 4 columns):\n",
      " #   Column      Non-Null Count    Dtype \n",
      "---  ------      --------------    ----- \n",
      " 0   listing_id  1393570 non-null  int64 \n",
      " 1   date        1393570 non-null  object\n",
      " 2   available   1393570 non-null  object\n",
      " 3   price       934542 non-null   object\n",
      "dtypes: int64(1), object(3)\n",
      "memory usage: 42.5+ MB\n"
     ]
    }
   ],
   "source": [
    "lst_calendar.info()"
   ]
  },
  {
   "cell_type": "code",
   "execution_count": 55,
   "id": "e74a7a2a",
   "metadata": {},
   "outputs": [
    {
     "data": {
      "text/html": [
       "<div>\n",
       "<style scoped>\n",
       "    .dataframe tbody tr th:only-of-type {\n",
       "        vertical-align: middle;\n",
       "    }\n",
       "\n",
       "    .dataframe tbody tr th {\n",
       "        vertical-align: top;\n",
       "    }\n",
       "\n",
       "    .dataframe thead th {\n",
       "        text-align: right;\n",
       "    }\n",
       "</style>\n",
       "<table border=\"1\" class=\"dataframe\">\n",
       "  <thead>\n",
       "    <tr style=\"text-align: right;\">\n",
       "      <th></th>\n",
       "      <th>listing_id</th>\n",
       "      <th>date</th>\n",
       "      <th>available</th>\n",
       "      <th>price</th>\n",
       "    </tr>\n",
       "  </thead>\n",
       "  <tbody>\n",
       "    <tr>\n",
       "      <th>0</th>\n",
       "      <td>241032</td>\n",
       "      <td>2016-01-04</td>\n",
       "      <td>t</td>\n",
       "      <td>85.0</td>\n",
       "    </tr>\n",
       "    <tr>\n",
       "      <th>1</th>\n",
       "      <td>241032</td>\n",
       "      <td>2016-01-05</td>\n",
       "      <td>t</td>\n",
       "      <td>85.0</td>\n",
       "    </tr>\n",
       "    <tr>\n",
       "      <th>2</th>\n",
       "      <td>241032</td>\n",
       "      <td>2016-01-06</td>\n",
       "      <td>f</td>\n",
       "      <td>NaN</td>\n",
       "    </tr>\n",
       "    <tr>\n",
       "      <th>3</th>\n",
       "      <td>241032</td>\n",
       "      <td>2016-01-07</td>\n",
       "      <td>f</td>\n",
       "      <td>NaN</td>\n",
       "    </tr>\n",
       "    <tr>\n",
       "      <th>4</th>\n",
       "      <td>241032</td>\n",
       "      <td>2016-01-08</td>\n",
       "      <td>f</td>\n",
       "      <td>NaN</td>\n",
       "    </tr>\n",
       "  </tbody>\n",
       "</table>\n",
       "</div>"
      ],
      "text/plain": [
       "   listing_id        date available  price\n",
       "0      241032  2016-01-04         t   85.0\n",
       "1      241032  2016-01-05         t   85.0\n",
       "2      241032  2016-01-06         f    NaN\n",
       "3      241032  2016-01-07         f    NaN\n",
       "4      241032  2016-01-08         f    NaN"
      ]
     },
     "execution_count": 55,
     "metadata": {},
     "output_type": "execute_result"
    }
   ],
   "source": [
    "lst_calendar['price'] = lst_calendar['price'].apply(change_price).astype('float')\n",
    "lst_calendar.head()"
   ]
  },
  {
   "cell_type": "code",
   "execution_count": 56,
   "id": "5ecdf628",
   "metadata": {
    "scrolled": true
   },
   "outputs": [
    {
     "data": {
      "text/plain": [
       "85.0    346\n",
       "Name: price, dtype: int64"
      ]
     },
     "execution_count": 56,
     "metadata": {},
     "output_type": "execute_result"
    }
   ],
   "source": [
    "lst_calendar.query('listing_id == 241032')['price'].value_counts()"
   ]
  },
  {
   "cell_type": "code",
   "execution_count": 57,
   "id": "7c5c8137",
   "metadata": {},
   "outputs": [
    {
     "data": {
      "text/html": [
       "<div>\n",
       "<style scoped>\n",
       "    .dataframe tbody tr th:only-of-type {\n",
       "        vertical-align: middle;\n",
       "    }\n",
       "\n",
       "    .dataframe tbody tr th {\n",
       "        vertical-align: top;\n",
       "    }\n",
       "\n",
       "    .dataframe thead th {\n",
       "        text-align: right;\n",
       "    }\n",
       "</style>\n",
       "<table border=\"1\" class=\"dataframe\">\n",
       "  <thead>\n",
       "    <tr style=\"text-align: right;\">\n",
       "      <th></th>\n",
       "      <th>listing_id</th>\n",
       "      <th>date</th>\n",
       "      <th>available</th>\n",
       "      <th>price</th>\n",
       "    </tr>\n",
       "  </thead>\n",
       "  <tbody>\n",
       "    <tr>\n",
       "      <th>0</th>\n",
       "      <td>241032</td>\n",
       "      <td>2016-01-04</td>\n",
       "      <td>t</td>\n",
       "      <td>85.0</td>\n",
       "    </tr>\n",
       "    <tr>\n",
       "      <th>1</th>\n",
       "      <td>241032</td>\n",
       "      <td>2016-01-05</td>\n",
       "      <td>t</td>\n",
       "      <td>85.0</td>\n",
       "    </tr>\n",
       "    <tr>\n",
       "      <th>2</th>\n",
       "      <td>241032</td>\n",
       "      <td>2016-01-06</td>\n",
       "      <td>f</td>\n",
       "      <td>85.0</td>\n",
       "    </tr>\n",
       "    <tr>\n",
       "      <th>3</th>\n",
       "      <td>241032</td>\n",
       "      <td>2016-01-07</td>\n",
       "      <td>f</td>\n",
       "      <td>85.0</td>\n",
       "    </tr>\n",
       "    <tr>\n",
       "      <th>4</th>\n",
       "      <td>241032</td>\n",
       "      <td>2016-01-08</td>\n",
       "      <td>f</td>\n",
       "      <td>85.0</td>\n",
       "    </tr>\n",
       "    <tr>\n",
       "      <th>...</th>\n",
       "      <td>...</td>\n",
       "      <td>...</td>\n",
       "      <td>...</td>\n",
       "      <td>...</td>\n",
       "    </tr>\n",
       "    <tr>\n",
       "      <th>1393565</th>\n",
       "      <td>10208623</td>\n",
       "      <td>2016-12-29</td>\n",
       "      <td>f</td>\n",
       "      <td>87.0</td>\n",
       "    </tr>\n",
       "    <tr>\n",
       "      <th>1393566</th>\n",
       "      <td>10208623</td>\n",
       "      <td>2016-12-30</td>\n",
       "      <td>f</td>\n",
       "      <td>87.0</td>\n",
       "    </tr>\n",
       "    <tr>\n",
       "      <th>1393567</th>\n",
       "      <td>10208623</td>\n",
       "      <td>2016-12-31</td>\n",
       "      <td>f</td>\n",
       "      <td>87.0</td>\n",
       "    </tr>\n",
       "    <tr>\n",
       "      <th>1393568</th>\n",
       "      <td>10208623</td>\n",
       "      <td>2017-01-01</td>\n",
       "      <td>f</td>\n",
       "      <td>87.0</td>\n",
       "    </tr>\n",
       "    <tr>\n",
       "      <th>1393569</th>\n",
       "      <td>10208623</td>\n",
       "      <td>2017-01-02</td>\n",
       "      <td>f</td>\n",
       "      <td>87.0</td>\n",
       "    </tr>\n",
       "  </tbody>\n",
       "</table>\n",
       "<p>1393570 rows × 4 columns</p>\n",
       "</div>"
      ],
      "text/plain": [
       "         listing_id        date available  price\n",
       "0            241032  2016-01-04         t   85.0\n",
       "1            241032  2016-01-05         t   85.0\n",
       "2            241032  2016-01-06         f   85.0\n",
       "3            241032  2016-01-07         f   85.0\n",
       "4            241032  2016-01-08         f   85.0\n",
       "...             ...         ...       ...    ...\n",
       "1393565    10208623  2016-12-29         f   87.0\n",
       "1393566    10208623  2016-12-30         f   87.0\n",
       "1393567    10208623  2016-12-31         f   87.0\n",
       "1393568    10208623  2017-01-01         f   87.0\n",
       "1393569    10208623  2017-01-02         f   87.0\n",
       "\n",
       "[1393570 rows x 4 columns]"
      ]
     },
     "execution_count": 57,
     "metadata": {},
     "output_type": "execute_result"
    }
   ],
   "source": [
    "# Fill the missed values with the same value for each listing_id.\n",
    "#https://stackoverflow.com/questions/19966018/pandas-filling-missing-values-by-mean-in-each-group\n",
    "\n",
    "lst_calendar['price'] = lst_calendar.groupby('listing_id')['price'].transform(lambda x: x.fillna(x.mean()))\n",
    "lst_calendar"
   ]
  },
  {
   "cell_type": "code",
   "execution_count": 58,
   "id": "827750ed",
   "metadata": {
    "scrolled": true
   },
   "outputs": [
    {
     "data": {
      "image/png": "[encoded data removed]",
      "text/plain": [
       "<Figure size 1080x360 with 1 Axes>"
      ]
     },
     "metadata": {
      "needs_background": "light"
     },
     "output_type": "display_data"
    }
   ],
   "source": [
    "plt.figure(figsize=[15,5])\n",
    "lst_calendar.groupby('date').mean()['price'].plot()\n",
    "plt.title('Average price trend throughout the year (2016)')\n",
    "plt.ylabel('Average price ($)');"
   ]
  },
  {
   "cell_type": "code",
   "execution_count": 59,
   "id": "f141c79f",
   "metadata": {},
   "outputs": [],
   "source": [
    "# Derive the month from the date, and convert it into abbreviated month name.\n",
    "#https://www.studytonight.com/python-howtos/how-to-get-month-name-from-month-number-in-python\n",
    "\n",
    "lst_calendar['Month'] = pd.DatetimeIndex(lst_calendar['date']).month\n",
    "lst_calendar['Month'] = pd.to_datetime(lst_calendar['Month'], format='%m').dt.month_name().str.slice(stop=3)"
   ]
  },
  {
   "cell_type": "code",
   "execution_count": 60,
   "id": "3b7e7f13",
   "metadata": {},
   "outputs": [],
   "source": [
    "# Convert the Month column from object type into an ordered categorical type.\n",
    "months = [\"Jan\", \"Feb\", \"Mar\", \"Apr\", \"May\", \"Jun\", \"Jul\", \"Aug\", \"Sep\", \"Oct\", \"Nov\", \"Dec\"]\n",
    "lst_calendar['Month'] = pd.Categorical(lst_calendar['Month'], categories=months, ordered=True)"
   ]
  },
  {
   "cell_type": "code",
   "execution_count": 73,
   "id": "022fb15a",
   "metadata": {
    "scrolled": true
   },
   "outputs": [
    {
     "data": {
      "image/png": "[encoded data removed]",
      "text/plain": [
       "<Figure size 1080x360 with 1 Axes>"
      ]
     },
     "metadata": {
      "needs_background": "light"
     },
     "output_type": "display_data"
    }
   ],
   "source": [
    "plt.figure(figsize=[15,5])\n",
    "\n",
    "plt.style.use('fivethirtyeight')\n",
    "\n",
    "lst_calendar.groupby('Month').mean()['price'].plot()\n",
    "plt.title('Average price trend throughout the year (2016)')\n",
    "plt.ylabel('Average price ($)');"
   ]
  },
  {
   "cell_type": "markdown",
   "id": "314cbce4",
   "metadata": {},
   "source": [
    "The average price increases gradually from February month until reaches its peak In July and the price average starts to decrease from the end of August and then stat to increase in November. In particular, the average price is high between Jun and September. "
   ]
  },
  {
   "cell_type": "markdown",
   "id": "113c77eb",
   "metadata": {},
   "source": [
    "#### Is the availability of properties affected in the peak period?"
   ]
  },
  {
   "cell_type": "code",
   "execution_count": 62,
   "id": "0dd5996e",
   "metadata": {
    "scrolled": true
   },
   "outputs": [
    {
     "data": {
      "image/png": "[encoded data removed]",
      "text/plain": [
       "<Figure size 720x360 with 1 Axes>"
      ]
     },
     "metadata": {
      "needs_background": "light"
     },
     "output_type": "display_data"
    }
   ],
   "source": [
    "#plt.rcParams.update(plt.rcParamsDefault)\n",
    "\n",
    "plt.figure(figsize=[10,5])\n",
    "\n",
    "sns.countplot(data = lst_calendar, x = 'Month', hue = 'available')\n",
    "\n",
    "plt.title('The available properties throughout 2016 in Seattle.')\n",
    "plt.legend(['Available','Unavailable'], loc='center left', bbox_to_anchor=(1.0, 0.5));"
   ]
  },
  {
   "cell_type": "markdown",
   "id": "c77560c9",
   "metadata": {},
   "source": [
    "The chart explains that the available property is more in March, October, November, and Dec months. <br/>\n",
    "Although the months \"June, July, August, and September\" are peak season periods,  the available property still more than the unavailable property."
   ]
  },
  {
   "cell_type": "markdown",
   "id": "2330d9c4",
   "metadata": {},
   "source": [
    "#### The correlation matrix"
   ]
  },
  {
   "cell_type": "markdown",
   "id": "df92cd1c",
   "metadata": {},
   "source": [
    "Plot the correlation matrix to see which variables are related to each other."
   ]
  },
  {
   "cell_type": "code",
   "execution_count": 63,
   "id": "f1bdabc1",
   "metadata": {
    "scrolled": true
   },
   "outputs": [
    {
     "data": {
      "image/png": "[encoded data removed]",
      "text/plain": [
       "<Figure size 720x360 with 2 Axes>"
      ]
     },
     "metadata": {
      "needs_background": "light"
     },
     "output_type": "display_data"
    }
   ],
   "source": [
    "# reset parameters\n",
    "#plt.rcParams.update(plt.rcParamsDefault)\n",
    "plt.figure(figsize=[10,5])\n",
    "sns.heatmap(df_list.corr(), annot= True, fmt= '.2f',cmap = 'Blues', center = 0);"
   ]
  },
  {
   "cell_type": "markdown",
   "id": "0e6938e6",
   "metadata": {},
   "source": [
    "The correlation matrix map explains a strong correlation between price, beds, bedrooms, bathrooms, and cleaning_fee columns. Also, it explains a moderate correlation between the previous columns and weekly_price, monthly_price, and security_deposit. Overmore, the five review columns have a strong correlation with each other."
   ]
  },
  {
   "cell_type": "markdown",
   "id": "08806d62",
   "metadata": {},
   "source": [
    "### What are the most features that can influence the rental price in Seattle?"
   ]
  },
  {
   "cell_type": "markdown",
   "id": "dfa53b40",
   "metadata": {},
   "source": [
    "## Linear Regression"
   ]
  },
  {
   "cell_type": "markdown",
   "id": "2e2485f3",
   "metadata": {},
   "source": [
    "### Creating Dummy Variables."
   ]
  },
  {
   "cell_type": "code",
   "execution_count": 64,
   "id": "d1cbe9a5",
   "metadata": {},
   "outputs": [],
   "source": [
    "def create_dummy_df(df, cat_cols, dummy_na):\n",
    "    \n",
    "    for col in  cat_cols:\n",
    "        try:\n",
    "            # for each cat add dummy var, drop original column\n",
    "            df = pd.concat([df.drop(col, axis=1), pd.get_dummies(df[col], prefix=col, prefix_sep='_', drop_first=True, dummy_na=dummy_na)], axis=1)\n",
    "        except:\n",
    "            continue\n",
    "    return df"
   ]
  },
  {
   "cell_type": "code",
   "execution_count": 65,
   "id": "def5c25f",
   "metadata": {},
   "outputs": [
    {
     "name": "stdout",
     "output_type": "stream",
     "text": [
      "(3292, 56)\n"
     ]
    }
   ],
   "source": [
    "\n",
    "#Pull a list of the column names of the categorical variables\n",
    "cat_list = df_list.select_dtypes(include=['object']).columns\n",
    "\n",
    "df_new = create_dummy_df(df_list, cat_list, dummy_na=False) \n",
    "\n",
    "# Show a header of df_new to check\n",
    "print(df_new.shape)"
   ]
  },
  {
   "cell_type": "markdown",
   "id": "b82876bf",
   "metadata": {},
   "source": [
    "### Modeling"
   ]
  },
  {
   "cell_type": "code",
   "execution_count": 66,
   "id": "42b65f7d",
   "metadata": {},
   "outputs": [],
   "source": [
    "#Split into explanatory and response variables\n",
    "X = df_new.drop('price', axis=1)\n",
    "y = df_new['price']\n",
    "\n",
    "#Split into train and test\n",
    "X_train, X_test, y_train, y_test = train_test_split(X, y, test_size = .30, random_state=42)\n",
    "\n",
    "#Instantiate\n",
    "lm_model = LinearRegression(normalize=True) # Instantiate\n",
    "\n",
    "#Fit the train data.\n",
    "lm_model.fit(X_train, y_train) \n",
    "\n",
    "#Predict using our model.\n",
    "y_test_preds = lm_model.predict(X_test)\n",
    "y_train_preds = lm_model.predict(X_train)\n",
    "\n",
    "#Score using our model\n",
    "test_score = r2_score(y_test, y_test_preds)\n",
    "train_score = r2_score(y_train, y_train_preds)"
   ]
  },
  {
   "cell_type": "code",
   "execution_count": 67,
   "id": "b1e3dc38",
   "metadata": {},
   "outputs": [
    {
     "name": "stdout",
     "output_type": "stream",
     "text": [
      "The rsquared on the training data was 0.6116840667919412.  The rsquared on the test data was 0.6829392810539003.\n"
     ]
    }
   ],
   "source": [
    "#Print training and testing score\n",
    "print(\"The rsquared on the training data was {}.  The rsquared on the test data was {}.\".format(train_score, test_score))"
   ]
  },
  {
   "cell_type": "markdown",
   "id": "71bbd3db",
   "metadata": {},
   "source": [
    "### Coefficients Weights\n",
    "Calculating the coefficients weights in our model and inspecting their sizes that indicate the impact of each variable on the price. The larger the coefficient, the larger the expected impact on price."
   ]
  },
  {
   "cell_type": "code",
   "execution_count": 74,
   "id": "d8dab6cb",
   "metadata": {
    "scrolled": true
   },
   "outputs": [
    {
     "data": {
      "text/html": [
       "<div>\n",
       "<style scoped>\n",
       "    .dataframe tbody tr th:only-of-type {\n",
       "        vertical-align: middle;\n",
       "    }\n",
       "\n",
       "    .dataframe tbody tr th {\n",
       "        vertical-align: top;\n",
       "    }\n",
       "\n",
       "    .dataframe thead th {\n",
       "        text-align: right;\n",
       "    }\n",
       "</style>\n",
       "<table border=\"1\" class=\"dataframe\">\n",
       "  <thead>\n",
       "    <tr style=\"text-align: right;\">\n",
       "      <th></th>\n",
       "      <th>est_int</th>\n",
       "      <th>coefs</th>\n",
       "      <th>abs_coefs</th>\n",
       "    </tr>\n",
       "  </thead>\n",
       "  <tbody>\n",
       "    <tr>\n",
       "      <th>39</th>\n",
       "      <td>property_type_Dorm</td>\n",
       "      <td>-162.285209</td>\n",
       "      <td>162.285209</td>\n",
       "    </tr>\n",
       "    <tr>\n",
       "      <th>33</th>\n",
       "      <td>property_type_Boat</td>\n",
       "      <td>101.459419</td>\n",
       "      <td>101.459419</td>\n",
       "    </tr>\n",
       "    <tr>\n",
       "      <th>48</th>\n",
       "      <td>room_type_Shared room</td>\n",
       "      <td>-55.926566</td>\n",
       "      <td>55.926566</td>\n",
       "    </tr>\n",
       "    <tr>\n",
       "      <th>21</th>\n",
       "      <td>neighbourhood_group_cleansed_Downtown</td>\n",
       "      <td>34.799063</td>\n",
       "      <td>34.799063</td>\n",
       "    </tr>\n",
       "    <tr>\n",
       "      <th>41</th>\n",
       "      <td>property_type_Loft</td>\n",
       "      <td>33.055567</td>\n",
       "      <td>33.055567</td>\n",
       "    </tr>\n",
       "    <tr>\n",
       "      <th>18</th>\n",
       "      <td>neighbourhood_group_cleansed_Cascade</td>\n",
       "      <td>31.262548</td>\n",
       "      <td>31.262548</td>\n",
       "    </tr>\n",
       "    <tr>\n",
       "      <th>47</th>\n",
       "      <td>room_type_Private room</td>\n",
       "      <td>-29.848836</td>\n",
       "      <td>29.848836</td>\n",
       "    </tr>\n",
       "    <tr>\n",
       "      <th>36</th>\n",
       "      <td>property_type_Camper/RV</td>\n",
       "      <td>29.313622</td>\n",
       "      <td>29.313622</td>\n",
       "    </tr>\n",
       "    <tr>\n",
       "      <th>0</th>\n",
       "      <td>bathrooms</td>\n",
       "      <td>28.187550</td>\n",
       "      <td>28.187550</td>\n",
       "    </tr>\n",
       "    <tr>\n",
       "      <th>20</th>\n",
       "      <td>neighbourhood_group_cleansed_Delridge</td>\n",
       "      <td>-27.755503</td>\n",
       "      <td>27.755503</td>\n",
       "    </tr>\n",
       "    <tr>\n",
       "      <th>27</th>\n",
       "      <td>neighbourhood_group_cleansed_Queen Anne</td>\n",
       "      <td>27.330581</td>\n",
       "      <td>27.330581</td>\n",
       "    </tr>\n",
       "    <tr>\n",
       "      <th>32</th>\n",
       "      <td>property_type_Bed &amp; Breakfast</td>\n",
       "      <td>26.924018</td>\n",
       "      <td>26.924018</td>\n",
       "    </tr>\n",
       "    <tr>\n",
       "      <th>1</th>\n",
       "      <td>bedrooms</td>\n",
       "      <td>25.300056</td>\n",
       "      <td>25.300056</td>\n",
       "    </tr>\n",
       "    <tr>\n",
       "      <th>25</th>\n",
       "      <td>neighbourhood_group_cleansed_Northgate</td>\n",
       "      <td>-21.187042</td>\n",
       "      <td>21.187042</td>\n",
       "    </tr>\n",
       "    <tr>\n",
       "      <th>14</th>\n",
       "      <td>host_response_time_within an hour</td>\n",
       "      <td>-20.856935</td>\n",
       "      <td>20.856935</td>\n",
       "    </tr>\n",
       "    <tr>\n",
       "      <th>28</th>\n",
       "      <td>neighbourhood_group_cleansed_Rainier Valley</td>\n",
       "      <td>-20.408473</td>\n",
       "      <td>20.408473</td>\n",
       "    </tr>\n",
       "    <tr>\n",
       "      <th>24</th>\n",
       "      <td>neighbourhood_group_cleansed_Magnolia</td>\n",
       "      <td>19.874115</td>\n",
       "      <td>19.874115</td>\n",
       "    </tr>\n",
       "    <tr>\n",
       "      <th>35</th>\n",
       "      <td>property_type_Cabin</td>\n",
       "      <td>19.397180</td>\n",
       "      <td>19.397180</td>\n",
       "    </tr>\n",
       "    <tr>\n",
       "      <th>38</th>\n",
       "      <td>property_type_Condominium</td>\n",
       "      <td>16.547198</td>\n",
       "      <td>16.547198</td>\n",
       "    </tr>\n",
       "    <tr>\n",
       "      <th>17</th>\n",
       "      <td>neighbourhood_group_cleansed_Capitol Hill</td>\n",
       "      <td>14.581370</td>\n",
       "      <td>14.581370</td>\n",
       "    </tr>\n",
       "  </tbody>\n",
       "</table>\n",
       "</div>"
      ],
      "text/plain": [
       "                                        est_int       coefs   abs_coefs\n",
       "39                           property_type_Dorm -162.285209  162.285209\n",
       "33                           property_type_Boat  101.459419  101.459419\n",
       "48                        room_type_Shared room  -55.926566   55.926566\n",
       "21        neighbourhood_group_cleansed_Downtown   34.799063   34.799063\n",
       "41                           property_type_Loft   33.055567   33.055567\n",
       "18         neighbourhood_group_cleansed_Cascade   31.262548   31.262548\n",
       "47                       room_type_Private room  -29.848836   29.848836\n",
       "36                      property_type_Camper/RV   29.313622   29.313622\n",
       "0                                     bathrooms   28.187550   28.187550\n",
       "20        neighbourhood_group_cleansed_Delridge  -27.755503   27.755503\n",
       "27      neighbourhood_group_cleansed_Queen Anne   27.330581   27.330581\n",
       "32                property_type_Bed & Breakfast   26.924018   26.924018\n",
       "1                                      bedrooms   25.300056   25.300056\n",
       "25       neighbourhood_group_cleansed_Northgate  -21.187042   21.187042\n",
       "14            host_response_time_within an hour  -20.856935   20.856935\n",
       "28  neighbourhood_group_cleansed_Rainier Valley  -20.408473   20.408473\n",
       "24        neighbourhood_group_cleansed_Magnolia   19.874115   19.874115\n",
       "35                          property_type_Cabin   19.397180   19.397180\n",
       "38                    property_type_Condominium   16.547198   16.547198\n",
       "17    neighbourhood_group_cleansed_Capitol Hill   14.581370   14.581370"
      ]
     },
     "execution_count": 74,
     "metadata": {},
     "output_type": "execute_result"
    }
   ],
   "source": [
    "def coef_weights(coefficients, X_train):\n",
    "    '''\n",
    "    INPUT:\n",
    "    coefficients - the coefficients of the linear model \n",
    "    X_train - the training data, so the column names can be used\n",
    "    OUTPUT:\n",
    "    coefs_df - a dataframe holding the coefficient, estimate, and abs(estimate)\n",
    "    \n",
    "    Provides a dataframe that can be used to understand the most influential coefficients\n",
    "    in a linear model by providing the coefficient estimates along with the name of the \n",
    "    variable attached to the coefficient.\n",
    "    '''\n",
    "    coefs_df = pd.DataFrame()\n",
    "    coefs_df['est_int'] = X_train.columns\n",
    "    coefs_df['coefs'] = lm_model.coef_\n",
    "    coefs_df['abs_coefs'] = np.abs(lm_model.coef_)\n",
    "    coefs_df = coefs_df.sort_values('abs_coefs', ascending=False)\n",
    "    return coefs_df\n",
    "\n",
    "#Use the function\n",
    "coef_df = coef_weights(lm_model.coef_, X_train)\n",
    "\n",
    "#A quick look at the top results\n",
    "coef_df.head(20)"
   ]
  },
  {
   "cell_type": "code",
   "execution_count": 84,
   "id": "b36f52ea",
   "metadata": {},
   "outputs": [
    {
     "data": {
      "text/html": [
       "<div>\n",
       "<style scoped>\n",
       "    .dataframe tbody tr th:only-of-type {\n",
       "        vertical-align: middle;\n",
       "    }\n",
       "\n",
       "    .dataframe tbody tr th {\n",
       "        vertical-align: top;\n",
       "    }\n",
       "\n",
       "    .dataframe thead th {\n",
       "        text-align: right;\n",
       "    }\n",
       "</style>\n",
       "<table border=\"1\" class=\"dataframe\">\n",
       "  <thead>\n",
       "    <tr style=\"text-align: right;\">\n",
       "      <th></th>\n",
       "      <th>est_int</th>\n",
       "      <th>abs_coefs</th>\n",
       "    </tr>\n",
       "  </thead>\n",
       "  <tbody>\n",
       "    <tr>\n",
       "      <th>39</th>\n",
       "      <td>property_type_Dorm</td>\n",
       "      <td>162.285209</td>\n",
       "    </tr>\n",
       "    <tr>\n",
       "      <th>33</th>\n",
       "      <td>property_type_Boat</td>\n",
       "      <td>101.459419</td>\n",
       "    </tr>\n",
       "    <tr>\n",
       "      <th>48</th>\n",
       "      <td>room_type_Shared room</td>\n",
       "      <td>55.926566</td>\n",
       "    </tr>\n",
       "    <tr>\n",
       "      <th>21</th>\n",
       "      <td>neighbourhood_group_cleansed_Downtown</td>\n",
       "      <td>34.799063</td>\n",
       "    </tr>\n",
       "    <tr>\n",
       "      <th>41</th>\n",
       "      <td>property_type_Loft</td>\n",
       "      <td>33.055567</td>\n",
       "    </tr>\n",
       "    <tr>\n",
       "      <th>18</th>\n",
       "      <td>neighbourhood_group_cleansed_Cascade</td>\n",
       "      <td>31.262548</td>\n",
       "    </tr>\n",
       "    <tr>\n",
       "      <th>47</th>\n",
       "      <td>room_type_Private room</td>\n",
       "      <td>29.848836</td>\n",
       "    </tr>\n",
       "    <tr>\n",
       "      <th>36</th>\n",
       "      <td>property_type_Camper/RV</td>\n",
       "      <td>29.313622</td>\n",
       "    </tr>\n",
       "    <tr>\n",
       "      <th>0</th>\n",
       "      <td>bathrooms</td>\n",
       "      <td>28.187550</td>\n",
       "    </tr>\n",
       "    <tr>\n",
       "      <th>20</th>\n",
       "      <td>neighbourhood_group_cleansed_Delridge</td>\n",
       "      <td>27.755503</td>\n",
       "    </tr>\n",
       "  </tbody>\n",
       "</table>\n",
       "</div>"
      ],
      "text/plain": [
       "                                  est_int   abs_coefs\n",
       "39                     property_type_Dorm  162.285209\n",
       "33                     property_type_Boat  101.459419\n",
       "48                  room_type_Shared room   55.926566\n",
       "21  neighbourhood_group_cleansed_Downtown   34.799063\n",
       "41                     property_type_Loft   33.055567\n",
       "18   neighbourhood_group_cleansed_Cascade   31.262548\n",
       "47                 room_type_Private room   29.848836\n",
       "36                property_type_Camper/RV   29.313622\n",
       "0                               bathrooms   28.187550\n",
       "20  neighbourhood_group_cleansed_Delridge   27.755503"
      ]
     },
     "execution_count": 84,
     "metadata": {},
     "output_type": "execute_result"
    }
   ],
   "source": [
    "# Select the 10th top of the features that can influence the rental price in Seattle.\n",
    "df = coef_df[:10][['est_int','abs_coefs']]\n",
    "df"
   ]
  },
  {
   "cell_type": "code",
   "execution_count": 85,
   "id": "d292a90a",
   "metadata": {},
   "outputs": [
    {
     "data": {
      "image/png": "[encoded data removed]",
      "text/plain": [
       "<Figure size 432x288 with 1 Axes>"
      ]
     },
     "metadata": {},
     "output_type": "display_data"
    }
   ],
   "source": [
    "sns.barplot(data= df, y='est_int', x='abs_coefs', color = base_color)\n",
    "plt.title(\"The top 10th features that can influence the rental price in Seattle.\")\n",
    "plt.xlabel(\"Coefficients Weights\")\n",
    "plt.ylabel(\"Feature Types\");"
   ]
  },
  {
   "cell_type": "markdown",
   "id": "b4c04924",
   "metadata": {},
   "source": [
    "The above chart shows the expected impact of features on price in descending order. The property type is the most influential factor, especially the Dormitory, Boat, and Loft types. Also, shared and private room types have a great impact on price. Downtown and Cascade neighborhoods have a noticeable impact on price."
   ]
  },
  {
   "cell_type": "markdown",
   "id": "44a80cd9",
   "metadata": {},
   "source": [
    "## Conclusion\n",
    "- The majority of hosts respond within a day and within a few house, and most of them are categorized as non-superhost.<br/>\n",
    "- As can be seen from the analysis, Downtown and Capitol Hill are the most popular neighborhoods in Seattle.<br/>\n",
    "- Neighborhoods can affect the rental price, where Magnolia, Downtown, Queen Anne, Cascade, and West Seattle neighborhoods are more expensive than the others.<br/>\n",
    "- Most guests prefer to rent a house or apartment, and the boat is the most expensive rental property of all types and the tent is the cheapest.<br/>\n",
    "- The majority of guests prefer to rent an entire house or apartment even though the entire house and apartment are more expensive than the other types.<br/>\n",
    "- The most expensive type of cancellation policy (the strict type), the most requested by the guests.<br/>\n",
    "- The average price in Seattle becomes high between June and September, which is reasonable because people prefer to travel during these months for tourism, so the demand for rentals increases.<br/>\n",
    "- Although the properties in peak season periods are in demand, there is still plenty of properties available.<br/>\n",
    "- Finally, the most anticipated impact of features on price are property type (Dormitory, Boat, and Loft ), room type (shared and private), as well as neighborhoods( Downtown and Cascade) that have a noticeable impact on price.<br/>"
   ]
  },
  {
   "cell_type": "code",
   "execution_count": null,
   "id": "b1c5b69f",
   "metadata": {},
   "outputs": [],
   "source": []
  }
 ],
 "metadata": {
  "kernelspec": {
   "display_name": "Python 3",
   "language": "python",
   "name": "python3"
  },
  "language_info": {
   "codemirror_mode": {
    "name": "ipython",
    "version": 3
   },
   "file_extension": ".py",
   "mimetype": "text/x-python",
   "name": "python",
   "nbconvert_exporter": "python",
   "pygments_lexer": "ipython3",
   "version": "3.8.8"
  }
 },
 "nbformat": 4,
 "nbformat_minor": 5
}
